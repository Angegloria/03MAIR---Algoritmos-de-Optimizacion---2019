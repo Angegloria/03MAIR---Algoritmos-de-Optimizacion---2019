{
  "nbformat": 4,
  "nbformat_minor": 0,
  "metadata": {
    "kernelspec": {
      "display_name": "Python 3",
      "language": "python",
      "name": "python3"
    },
    "language_info": {
      "codemirror_mode": {
        "name": "ipython",
        "version": 3
      },
      "file_extension": ".py",
      "mimetype": "text/x-python",
      "name": "python",
      "nbconvert_exporter": "python",
      "pygments_lexer": "ipython3",
      "version": "3.7.4"
    },
    "colab": {
      "name": "Gloria_Angelina_Estrada_Galindo_AG1.ipynb",
      "provenance": [],
      "include_colab_link": true
    }
  },
  "cells": [
    {
      "cell_type": "markdown",
      "metadata": {
        "id": "view-in-github",
        "colab_type": "text"
      },
      "source": [
        "<a href=\"https://colab.research.google.com/github/Angegloria/03MAIR---Algoritmos-de-Optimizacion---2019/blob/master/AG1/Gloria_Angelina_Estrada_Galindo_AG1.ipynb\" target=\"_parent\"><img src=\"https://colab.research.google.com/assets/colab-badge.svg\" alt=\"Open In Colab\"/></a>"
      ]
    },
    {
      "cell_type": "markdown",
      "metadata": {
        "id": "nVEKh_d4mC9X",
        "colab_type": "text"
      },
      "source": [
        "## AG1- Actividad Guiada 1\n",
        "\n",
        "Nombre y Apellidos:   <br> Gloria Angelina Estrada Galindo\n",
        "\n",
        "Url: https://github.com/Angegloria/03MAIR---Algoritmos-de-Optimizacion---2019/blob/master/AG1/Gloria_Angelina_Estrada_Galindo_AG1.ipynb<br>"
      ]
    },
    {
      "cell_type": "markdown",
      "metadata": {
        "id": "1Lix805AmC9Z",
        "colab_type": "text"
      },
      "source": [
        " • Desarrollar algoritmos de ordenación con python\n",
        "\n",
        "Los algoritmos de ordenamiento son muy importantes y existen algoritmos de ordenacion lenta y rapida, la diferencia entre estos algoritmos es la eficiencia. El ordenamiento de burbuja es el mas sencillo por eso lo aplique en este caso, que es una lista de numeros no muy grande y por eso es facil ordenarla."
      ]
    },
    {
      "cell_type": "code",
      "metadata": {
        "id": "WbWZbHzxmC9a",
        "colab_type": "code",
        "colab": {},
        "outputId": "b05a5bda-1b93-4f56-bc6e-80ddbd6a04b1"
      },
      "source": [
        "mylist = [889,5,4,1,2,8,101,0,20,200,230,119,90,28,390,88,13,1000,396]\n",
        "\n",
        "def bubble_sort(mylist):\n",
        "    '''\n",
        "    Implementacion del algoritmo de burbuja.\n",
        "    Entrada: my list - objeto list para ser ordenado\n",
        "    Salida: un objeto list ya ordenado del menor hasta el mayor\n",
        "    '''\n",
        "    for i in range(len(mylist)):\n",
        "        for idx,element in enumerate(mylist):\n",
        "            if idx == 0:\n",
        "                continue\n",
        "            else:\n",
        "                if mylist[idx]<mylist[idx-1]:\n",
        "                    element2 = mylist[idx-1]\n",
        "                    mylist[idx-1] = element\n",
        "                    mylist[idx] = element2\n",
        "    return mylist\n",
        "                \n",
        "bubble_sort(mylist)"
      ],
      "execution_count": 0,
      "outputs": [
        {
          "output_type": "execute_result",
          "data": {
            "text/plain": [
              "[0, 1, 2, 4, 5, 8, 13, 20, 28, 88, 90, 101, 119, 200, 230, 390, 396, 889, 1000]"
            ]
          },
          "metadata": {
            "tags": []
          },
          "execution_count": 1
        }
      ]
    },
    {
      "cell_type": "markdown",
      "metadata": {
        "id": "8aYN4q0wmC9e",
        "colab_type": "text"
      },
      "source": [
        "• Desarrollar algoritmos voraces para resolver problemas\n",
        "\n",
        "Estos algoritmos se usan para resolver ciertos problemas de optimizacion,y en este caso use un problema simple como el de las monedas, para obtener la solucion al problema de las monedas.Con este algoritmo la idea es que el problema alcance la mejor solución. Otra cosa tambien es que estos algoritmos son muy agresivos y muy eficaces para solucionar algunos problemas, y esta eficacia se usa aun cuando la solución final no sea la mas optima.Por otra parte algunas veces aunque no se tenga la solucion optima, estos algoritmos ayudan a encontrar alguna solucion."
      ]
    },
    {
      "cell_type": "code",
      "metadata": {
        "id": "BGZ_F9ffmC9f",
        "colab_type": "code",
        "colab": {}
      },
      "source": [
        "import numpy as np\n",
        "monedas =[50 ,25 ,10, 5 ,1]\n",
        "\n",
        "def Devolver_Cambio (cantidad):\n",
        "    cambio = []\n",
        "    iter_ = 0\n",
        "    \n",
        "    for coin in monedas:\n",
        "\n",
        "        cambio2 = cambio.copy()\n",
        "        while sum(cambio2) <= cantidad:\n",
        "            cambio2.append(coin)\n",
        "            if sum(cambio2) <= cantidad:\n",
        "                cambio.append(coin)\n",
        "        \n",
        "                \n",
        "    return cambio\n"
      ],
      "execution_count": 0,
      "outputs": []
    },
    {
      "cell_type": "code",
      "metadata": {
        "id": "RX_LMsnMmC9i",
        "colab_type": "code",
        "colab": {},
        "outputId": "906d1ae4-0ef1-4157-e15c-f85861706221"
      },
      "source": [
        "Devolver_Cambio(69)"
      ],
      "execution_count": 0,
      "outputs": [
        {
          "output_type": "execute_result",
          "data": {
            "text/plain": [
              "[50, 10, 5, 1, 1, 1, 1]"
            ]
          },
          "metadata": {
            "tags": []
          },
          "execution_count": 3
        }
      ]
    },
    {
      "cell_type": "markdown",
      "metadata": {
        "id": "-UzCxZl_mC9l",
        "colab_type": "text"
      },
      "source": [
        "• Desarrollar algoritmos con la técnica de vuelta atrás(backtracking) para resolver problemas.\n",
        "\n",
        "Los algoritmos de vuelta atras se pueden usar para encontrar soluciones a problemas que tienen determinadas restricciones, la forma de este algoritmo es muy parecida a la de busqueda en profundidad, en este ejercicio use el ejemplo de sudoku."
      ]
    },
    {
      "cell_type": "code",
      "metadata": {
        "id": "sLAXm7c1mC9n",
        "colab_type": "code",
        "colab": {},
        "outputId": "c4972aa6-b228-4555-a73e-22ec764199ba"
      },
      "source": [
        "# https://www.codesdope.com/blog/article/solving-sudoku-with-backtracking-c-java-and-python/\n",
        "import numpy as np\n",
        "# vuelta atras en la resolucion del sudoku \n",
        "board = np.array([\n",
        "    [6,5,0,8,7,3,0,9,0],\n",
        "    [0,0,3,2,5,0,0,0,8],\n",
        "    [9,8,0,1,0,4,3,5,7],\n",
        "    [1,0,5,0,0,0,0,0,0],\n",
        "    [4,0,0,0,0,0,0,0,2],\n",
        "    [0,0,0,0,0,0,5,0,3],\n",
        "    [5,7,8,3,0,1,0,2,6],\n",
        "    [2,0,0,0,4,8,9,0,0],\n",
        "    [0,9,0,6,2,5,0,8,1]])\n",
        "\n",
        "# imprime el tablero en pantalla\n",
        "def print_board(board):\n",
        "    for row in board:\n",
        "        print (row)\n",
        "\n",
        "# funcion para capturar una celda vacia, devuelve cada vacio en orden\n",
        "#  tambien va comprobando cada fila\n",
        "def find_empty(board):\n",
        "    empty = [-1, -1, False] # inicializa empty con empty[3] = False\n",
        "    idx_empty = np.argwhere(board == 0)\n",
        "    if idx_empty.size == 0:\n",
        "        # Falso significa que ninguna celda está vacía, el tablero está completo\n",
        "        return None\n",
        "    else:\n",
        "        return idx_empty\n",
        "    \n",
        "    \n",
        "    return empty\n",
        "\n",
        "# funcion para comprobar si se puede insertar un valor en una celda\n",
        "def is_valid(board,number, row, col):\n",
        "    # row\n",
        "    if number in board[row,:]:\n",
        "        return False\n",
        "    # column\n",
        "    if number in board[:,col]:\n",
        "        return False\n",
        "    \n",
        "    # submatrix\n",
        "    row_grid = (row//3)\n",
        "    col_grid = (col//3)\n",
        "    grid_board = board.reshape(3,3,-1,3).swapaxes(1,2)\n",
        "    if number in grid_board[row_grid][col_grid]:\n",
        "        return False\n",
        "    \n",
        "    return True\n",
        "\n",
        "#función para comprobar si podemos poner un\n",
        "33/5000\n",
        "\n",
        "\n",
        "#Evalua en una celda particular o no\n",
        "def solve_sudoku(board):\n",
        "    row = 0\n",
        "    col = 0\n",
        "    #si todas las celdas están asignadas entonces el sudoku ya está resuelto\n",
        "    #pasar por referencia porque number_unassigned cambiará los valores de fila y columna\n",
        "    a = find_empty(board)\n",
        "    if a is None:\n",
        "        return True\n",
        "    \n",
        "    top_empty = a[0]\n",
        "    row = top_empty[0]\n",
        "    col = top_empty[1]\n",
        "    \n",
        "    for number in range(1,10):\n",
        "        #si podemos asignar i a la celda o no\n",
        "        #la célda es tablero[row][col]\n",
        "        if is_valid(board,number, row, col):\n",
        "            board[row][col] = number\n",
        "            #backtracking\n",
        "            if solve_sudoku(board):\n",
        "                return True\n",
        "            #f no se puede proceder con esta solución\n",
        "            #se reasigna la celda\n",
        "            board[row][col]=0\n",
        "    return False\n",
        "\n",
        "if solve_sudoku(board):\n",
        "    print_board(board)\n",
        "else:\n",
        "    print(\"No solution\")"
      ],
      "execution_count": 0,
      "outputs": [
        {
          "output_type": "stream",
          "text": [
            "[6 5 1 8 7 3 2 9 4]\n",
            "[7 4 3 2 5 9 1 6 8]\n",
            "[9 8 2 1 6 4 3 5 7]\n",
            "[1 2 5 4 3 6 8 7 9]\n",
            "[4 3 9 5 8 7 6 1 2]\n",
            "[8 6 7 9 1 2 5 4 3]\n",
            "[5 7 8 3 9 1 4 2 6]\n",
            "[2 1 6 7 4 8 9 3 5]\n",
            "[3 9 4 6 2 5 7 8 1]\n"
          ],
          "name": "stdout"
        }
      ]
    },
    {
      "cell_type": "markdown",
      "metadata": {
        "id": "l04mYNuomC9r",
        "colab_type": "text"
      },
      "source": [
        "• Desarrollar algoritmos con la técnica de divide y vencerás para resolver problemas.\n",
        "\n",
        "Este algoritmo se usa para solucionar problemas dificiles de forma recursiva al dividirlo en problemas mas pequeños, y de esa forma hacerlo mas simple.Divide y Vencerás tambien es una tecnica de diseño que resuelve un problema a partir de la solución de subproblemas del mismo tipo, pero de menor tamaño. En caso de que los subproblemas sean todavia grandes se aplicara nuevamente la tecnica hasta que alcance subproblemas muy pequeños para solucionarlos de forma directa. Tambien se usa la recursividad en esta tecnica. \n",
        "\n"
      ]
    },
    {
      "cell_type": "code",
      "metadata": {
        "id": "65DpVbvBmC9s",
        "colab_type": "code",
        "colab": {}
      },
      "source": [
        "# se quiere saber el indice del target en una lista ordenada\n",
        "def binary_search(A,T):\n",
        "    '''\n",
        "    Hace una division de la lista en dos partes (binaria) y comprueba si el punto medio\n",
        "    es el objetivo. Si no, entonces descarta la parte que no tiene el objetivo y\n",
        "    continua dividiendo la otra parte en dos, hasta obtener la respuesta\n",
        "    '''\n",
        "    \n",
        "    # limites izquierda (left L) y derecha (right R)\n",
        "    L = 0\n",
        "    R = len(A) - 1\n",
        "    while True:\n",
        "        \n",
        "        if L > R:\n",
        "            print('La busqueda binaria ha fallado.')\n",
        "            return 0\n",
        "\n",
        "        m = int((L+R)/2)\n",
        "        if A[m] < T:\n",
        "            L = m + 1\n",
        "        elif A[m] > T:\n",
        "            R = m - 1\n",
        "        else:\n",
        "            return m\n",
        "    \n"
      ],
      "execution_count": 0,
      "outputs": []
    },
    {
      "cell_type": "code",
      "metadata": {
        "id": "mLdtsg8xmC9v",
        "colab_type": "code",
        "colab": {},
        "outputId": "8bcd0f54-aa17-44b8-99b5-dec120ca0dad"
      },
      "source": [
        "# Binary search\n",
        "A = [1, 4, 16, 19,35, 100]\n",
        "T = 16 # target\n",
        "\n",
        "binary_search(A,T)"
      ],
      "execution_count": 0,
      "outputs": [
        {
          "output_type": "execute_result",
          "data": {
            "text/plain": [
              "2"
            ]
          },
          "metadata": {
            "tags": []
          },
          "execution_count": 6
        }
      ]
    },
    {
      "cell_type": "markdown",
      "metadata": {
        "id": "U6n1JcD-mC9x",
        "colab_type": "text"
      },
      "source": [
        "• Desarrollar algoritmos con la técnica de programación dinámica para resolver problemas\n",
        "\n",
        "Este algoritmo de programacion dinamica se usa para solucionar ciertos problemas matematicos seleccionados, donde se toman decisiones en forma secuencial, ademas nos da un proceso sistematico que obtiene las decisiones que maximicen la efectividad al descomponer el problema en etapas, a través de cálculos recursivos. Los  algortimos PD se aplican con efectividad a problemas de optimizacion y comienzan de una manera recursiva (ecuacion de Bellman).\n",
        "\n"
      ]
    },
    {
      "cell_type": "code",
      "metadata": {
        "id": "QV42ra4rmC9y",
        "colab_type": "code",
        "colab": {},
        "outputId": "6bea69c7-99b5-4100-e988-c86569ba9910"
      },
      "source": [
        "1>-np.inf"
      ],
      "execution_count": 0,
      "outputs": [
        {
          "output_type": "execute_result",
          "data": {
            "text/plain": [
              "True"
            ]
          },
          "metadata": {
            "tags": []
          },
          "execution_count": 7
        }
      ]
    },
    {
      "cell_type": "code",
      "metadata": {
        "id": "qlt5yyNxmC90",
        "colab_type": "code",
        "colab": {}
      },
      "source": [
        "# La programacion dinamica para la resolucion del problema de mayor secuencia crescente (LIS - longest increasing sequence)\n",
        "def find_seq(lista):\n",
        "    n = len(lista)\n",
        "    max_len = 1\n",
        "    max_num = -np.inf # inicializa el maximo numero como infinito negativo\n",
        "    \n",
        "    # check guarda los valores de la lista ya vistos\n",
        "    checked = np.ones(n,dtype=np.int8)*-1\n",
        "        \n",
        "    # length guarda el tamano de la lista LIS en cada paso\n",
        "    length =  np.zeros(n)\n",
        "    length[0] = 1\n",
        "    \n",
        "    \n",
        "    # hace un loop en cada uno de los elementos\n",
        "    for i in range(1,n):\n",
        "        # hace un loop de elemento i de vuelta hasta el inicio de la lista\n",
        "        # y comprueba si el proximo elemento es mayor, entonces incrementa\n",
        "        # max_length y pone el indice en la lista checked\n",
        "        for j in range(i-1,-1,-1):\n",
        "            if (length[j] + 1) > length[i] and lista[j] < lista[i]:\n",
        "                \n",
        "                length[i] = length[j] + 1\n",
        "                checked[i] = j\n",
        "                \n",
        "                if length[i] > max_len:\n",
        "                    max_length = length[i]\n",
        "                    max_num = i\n",
        "    \n",
        "    # se usan los indices generados por el algoritmo para escribir la secuencia\n",
        "    lis = []\n",
        "    idx = int(max_num)\n",
        "    # se usan los indices de checked para hacer la lista final (LIS)\n",
        "    while idx != -1:\n",
        "        lis.append(lista[idx])\n",
        "        idx = checked[idx]\n",
        "        \n",
        "    return lis[::-1]"
      ],
      "execution_count": 0,
      "outputs": []
    },
    {
      "cell_type": "code",
      "metadata": {
        "id": "SMZAdDGdmC96",
        "colab_type": "code",
        "colab": {},
        "outputId": "5a821619-09f9-4f56-ca43-51d0d19a75ff"
      },
      "source": [
        "lista = [100,1,5,0,10,3,200]\n",
        "find_seq(lista)"
      ],
      "execution_count": 0,
      "outputs": [
        {
          "output_type": "execute_result",
          "data": {
            "text/plain": [
              "[1, 5, 10, 200]"
            ]
          },
          "metadata": {
            "tags": []
          },
          "execution_count": 9
        }
      ]
    },
    {
      "cell_type": "code",
      "metadata": {
        "id": "fInG5W0YmC99",
        "colab_type": "code",
        "colab": {}
      },
      "source": [
        ""
      ],
      "execution_count": 0,
      "outputs": []
    }
  ]
}