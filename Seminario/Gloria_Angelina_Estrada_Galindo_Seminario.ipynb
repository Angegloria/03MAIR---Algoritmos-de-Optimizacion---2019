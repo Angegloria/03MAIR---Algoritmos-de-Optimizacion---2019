{
  "nbformat": 4,
  "nbformat_minor": 0,
  "metadata": {
    "colab": {
      "name": "Gloria_Angelina_Estrada_Galindo_Seminario.ipynb",
      "provenance": [],
      "collapsed_sections": [],
      "include_colab_link": true
    },
    "kernelspec": {
      "display_name": "Python 3",
      "language": "python",
      "name": "python3"
    },
    "language_info": {
      "codemirror_mode": {
        "name": "ipython",
        "version": 3
      },
      "file_extension": ".py",
      "mimetype": "text/x-python",
      "name": "python",
      "nbconvert_exporter": "python",
      "pygments_lexer": "ipython3",
      "version": "3.7.4"
    }
  },
  "cells": [
    {
      "cell_type": "markdown",
      "metadata": {
        "id": "view-in-github",
        "colab_type": "text"
      },
      "source": [
        "<a href=\"https://colab.research.google.com/github/Angegloria/03MAIR---Algoritmos-de-Optimizacion---2019/blob/master/Seminario/Gloria_Angelina_Estrada_Galindo_Seminario.ipynb\" target=\"_parent\"><img src=\"https://colab.research.google.com/assets/colab-badge.svg\" alt=\"Open In Colab\"/></a>"
      ]
    },
    {
      "cell_type": "markdown",
      "metadata": {
        "colab_type": "text",
        "id": "hVbXYX-RfPWh"
      },
      "source": [
        "# Algoritmos de optimización - Seminario<br>\n",
        "Nombre y Apellidos:   <br> Gloria Angelina Estrada Galindo\n",
        "\n",
        "Url: https://github.com/Angegloria/03MAIR---Algoritmos-de-Optimizacion---2019<br>\n",
        "\n",
        "Problema:\n",
        "> 1. Sesiones de doblaje <br>\n",
        ">2. Organizar los horarios de partidos de La Liga<br>\n",
        ">3. Combinar cifras y operaciones\n",
        "\n",
        "\n",
        "\n",
        "\n",
        "\n",
        "\n",
        "                                        "
      ]
    },
    {
      "cell_type": "markdown",
      "metadata": {
        "id": "ghKYwRBtNhka",
        "colab_type": "text"
      },
      "source": [
        "1. Descripción del problema:\n",
        "\n",
        "Problema 3 \n",
        "\n",
        "Combinar cifras y operaciones\n",
        "\n",
        " • El problema consiste en analizar el siguiente problema y diseñar un algoritmo que lo resuelva.\n",
        "\n",
        " • Disponemos de las 9 cifras del 1 al 9 (excluimos el cero) y de los 4 signos básicos de las operaciones fundamentales: suma(+), resta(-), multiplicación(*) y división(/)\n",
        "\n",
        " • Debemos combinarlos alternativamente sin repetir ninguno de ellos para obtener una cantidad dada.\n",
        "\n",
        " Un ejemplo sería para obtener el 4: 4+2-6/3*1 = 4\n",
        "\n",
        "\n",
        "(*) La respuesta es obligatoria\n"
      ]
    },
    {
      "cell_type": "code",
      "metadata": {
        "colab_type": "code",
        "id": "nogifLkNTnTY",
        "colab": {}
      },
      "source": [
        "from itertools import permutations\n",
        "\n",
        "\n",
        "operaciones = {'+':lambda a,b: a+b ,'-': lambda a,b: a-b,'*': lambda a,b: a*b, '/': lambda a,b: a/b}"
      ],
      "execution_count": 0,
      "outputs": []
    },
    {
      "cell_type": "code",
      "metadata": {
        "id": "SgaxtExJNhkh",
        "colab_type": "code",
        "outputId": "292b5e2d-a0e5-4a5f-91d7-a4377e6142d5",
        "colab": {
          "base_uri": "https://localhost:8080/",
          "height": 34
        }
      },
      "source": [
        "cifra = [1, 4, 2, 3, 6]\n",
        "operacion = ['+', '-', '*', '/']\n",
        "\n",
        "def resolver(cifra,operacion):\n",
        "    if len(operacion)==1:\n",
        "        #print(cifra)\n",
        "        #print(operacion)\n",
        "        return operaciones[operacion[0]](cifra[0],cifra[1])\n",
        "    if '*' in operacion:\n",
        "        idx_mult = operacion.index('*')\n",
        "        #print('idx_mult',idx_mult)\n",
        "        cifra[idx_mult] = cifra[idx_mult]*cifra[idx_mult+1]\n",
        "        del cifra[idx_mult+1]\n",
        "        del operacion[idx_mult]\n",
        "        #print(cifra)\n",
        "        #print(operacion)\n",
        "        return resolver(cifra,operacion)\n",
        "    elif '/' in operacion:\n",
        "        idx_div = operacion.index('/')\n",
        "        #print('idx_div',idx_div)\n",
        "        if cifra[idx_div+1] == 0:\n",
        "            return False\n",
        "        cifra[idx_div] = cifra[idx_div]/cifra[idx_div+1]\n",
        "        del cifra[idx_div+1]\n",
        "        del operacion[idx_div]\n",
        "        #print(cifra)\n",
        "        #print(operacion)\n",
        "        return resolver(cifra,operacion)\n",
        "    else:\n",
        "        cifra[0] = operaciones[operacion[0]](cifra[0],cifra[1])\n",
        "        del cifra[1]\n",
        "        del operacion[0]\n",
        "        #print(cifra)\n",
        "        #print(operacion)\n",
        "        return resolver(cifra,operacion)\n",
        "    \n",
        "resolver(cifra,operacion)"
      ],
      "execution_count": 0,
      "outputs": [
        {
          "output_type": "execute_result",
          "data": {
            "text/plain": [
              "4.0"
            ]
          },
          "metadata": {
            "tags": []
          },
          "execution_count": 2
        }
      ]
    },
    {
      "cell_type": "code",
      "metadata": {
        "id": "oX-cCUZHNhku",
        "colab_type": "code",
        "outputId": "fb18af49-115b-4ca6-c6ab-bd4382b3de47",
        "colab": {
          "base_uri": "https://localhost:8080/",
          "height": 457
        }
      },
      "source": [
        "objetivo = 4\n",
        "cifra = [0,0,0,0,0]\n",
        "operacion = ['+','-','/','*']\n",
        "\n",
        "def encontrar_ecuaciones(operacion,pos):\n",
        "    \n",
        "    cifra_ = list(cifra)\n",
        "    operacion_ = list(operacion)\n",
        "    if resolver(cifra_,operacion_) == objetivo:\n",
        "        print('Resultado',cifra)\n",
        "        print('Resultado',operacion)\n",
        "        return True\n",
        "    \n",
        "    if 0 in cifra:\n",
        "        idx = cifra.index(0)\n",
        "    else:\n",
        "        idx = pos\n",
        "    \n",
        "    \n",
        "    for numero in range(1,10):\n",
        "        \n",
        "        if numero not in cifra:\n",
        "            cifra[idx] = numero\n",
        "            print(cifra)\n",
        "            if pos == 4:\n",
        "                pos = 0\n",
        "            else:\n",
        "                pos +=1\n",
        "            if encontrar_ecuaciones(operacion,pos):\n",
        "                return True\n",
        "        \n",
        "            cifra[idx] = 0\n",
        "            print(cifra)\n",
        "        \n",
        "    return False\n",
        "\n",
        "encontrar_ecuaciones(operacion,0)\n",
        "        "
      ],
      "execution_count": 0,
      "outputs": [
        {
          "output_type": "stream",
          "text": [
            "[1, 0, 0, 0, 0]\n",
            "[1, 2, 0, 0, 0]\n",
            "[1, 2, 3, 0, 0]\n",
            "[1, 2, 3, 4, 0]\n",
            "[1, 2, 3, 4, 5]\n",
            "[6, 2, 3, 4, 5]\n",
            "[6, 1, 3, 4, 5]\n",
            "[6, 1, 2, 4, 5]\n",
            "[6, 1, 2, 3, 5]\n",
            "[6, 1, 2, 3, 4]\n",
            "[5, 1, 2, 3, 4]\n",
            "[5, 6, 2, 3, 4]\n",
            "[5, 6, 1, 3, 4]\n",
            "[5, 6, 1, 2, 4]\n",
            "[5, 6, 1, 2, 3]\n",
            "[4, 6, 1, 2, 3]\n",
            "[4, 5, 1, 2, 3]\n",
            "[4, 5, 6, 2, 3]\n",
            "[4, 5, 6, 1, 3]\n",
            "[4, 5, 6, 1, 2]\n",
            "[3, 5, 6, 1, 2]\n",
            "[3, 4, 6, 1, 2]\n",
            "Resultado [3, 4, 6, 1, 2]\n",
            "Resultado ['+', '-', '/', '*']\n"
          ],
          "name": "stdout"
        },
        {
          "output_type": "execute_result",
          "data": {
            "text/plain": [
              "True"
            ]
          },
          "metadata": {
            "tags": []
          },
          "execution_count": 3
        }
      ]
    },
    {
      "cell_type": "markdown",
      "metadata": {
        "colab_type": "text",
        "id": "3_-exlrTgLd-"
      },
      "source": [
        "(*)¿Cuantas posibilidades hay sin tener en cuenta las restricciones?<br>\n",
        "\n",
        "\n",
        "\n",
        "¿Cuantas posibilidades hay teniendo en cuenta todas las restricciones.\n",
        "\n",
        "\n"
      ]
    },
    {
      "cell_type": "markdown",
      "metadata": {
        "colab_type": "text",
        "id": "WfCUqJyKhPcw"
      },
      "source": [
        "Respuesta"
      ]
    },
    {
      "cell_type": "code",
      "metadata": {
        "colab_type": "code",
        "id": "iq6Fe32MgpDX",
        "colab": {}
      },
      "source": [
        "# Hay posibilidades infinitas al no tomar en cuenta las restricciones."
      ],
      "execution_count": 0,
      "outputs": []
    },
    {
      "cell_type": "code",
      "metadata": {
        "id": "6V8YVK4ZNhk9",
        "colab_type": "code",
        "outputId": "06df7dd0-6b84-4029-ad96-8f1eb6906d4b",
        "colab": {
          "base_uri": "https://localhost:8080/",
          "height": 52
        }
      },
      "source": [
        "nr_posibilidades = len(list(permutations(range(1,10),5)))*len(list(permutations(['+','-','*','/'],4)))\n",
        "\n",
        "print('Numero de posibilidades teniendo en cuenta todas las restricciones:')\n",
        "print(f'{nr_posibilidades:.4e}')"
      ],
      "execution_count": 0,
      "outputs": [
        {
          "output_type": "stream",
          "text": [
            "Numero de posibilidades teniendo en cuenta todas las restricciones:\n",
            "3.6288e+05\n"
          ],
          "name": "stdout"
        }
      ]
    },
    {
      "cell_type": "markdown",
      "metadata": {
        "colab_type": "text",
        "id": "dzynfVJahHoY"
      },
      "source": [
        "Modelo para el espacio de soluciones<br>\n",
        "(*) ¿Cual es la estructura de datos que mejor se adapta al problema? Argumentalo.(Es posible que hayas elegido una al principio y veas la necesidad de cambiar, arguentalo)\n"
      ]
    },
    {
      "cell_type": "markdown",
      "metadata": {
        "colab_type": "text",
        "id": "xFIJrOwKi2Ti"
      },
      "source": [
        "Respuesta"
      ]
    },
    {
      "cell_type": "code",
      "metadata": {
        "colab_type": "code",
        "id": "38c-7-ejhJmA",
        "colab": {}
      },
      "source": [
        "# Utilizamos listas para almacenar los numeros y las operaciones.\n",
        "# Utilizamos una funcion para resolver una ecuacion dada.\n",
        "# Para buscar la solucion, se utiliza el algoritmo de vuelta atras, fijando las operaciones y cambiando los numeros.\n",
        "# Como este es un problema de busqueda, se pueden usar diferentes algoritmos de arboles de decision."
      ],
      "execution_count": 0,
      "outputs": []
    },
    {
      "cell_type": "markdown",
      "metadata": {
        "colab_type": "text",
        "id": "7Z9U2W7bi-XS"
      },
      "source": [
        "Según el modelo para el espacio de soluciones<br>\n",
        "(*)¿Cual es la función objetivo?\n",
        "\n",
        "(*)¿Es un problema de maximización o minimización?"
      ]
    },
    {
      "cell_type": "markdown",
      "metadata": {
        "colab_type": "text",
        "id": "hBalWLM7j1_d"
      },
      "source": [
        "Respuesta"
      ]
    },
    {
      "cell_type": "code",
      "metadata": {
        "colab_type": "code",
        "id": "pDA-rg3Gj5Lz",
        "colab": {}
      },
      "source": [
        "# La funcion objetivo es buscar la ecuacion de la manera mas rapida y simple usando el algoritmo de vuelta atras, y que es \n",
        "# combinar todas las cifras alternativamente sin repetir ninguna de las cifras, para obtener una cantidad dada.\n",
        "# Este se considera un problema de busqueda,(como ejemplo el problema de ordenacion de cantidades sin repetir \n",
        "# ninguna de ellas).\n",
        "# Se dice que cuando una solucion corresponde directamente al objetivo del problema,se habla de maximizar como en este caso.\n"
      ],
      "execution_count": 0,
      "outputs": []
    },
    {
      "cell_type": "markdown",
      "metadata": {
        "colab_type": "text",
        "id": "rlnTYgY1j6I2"
      },
      "source": [
        "Diseña un algoritmo para resolver el problema por fuerza bruta"
      ]
    },
    {
      "cell_type": "markdown",
      "metadata": {
        "colab_type": "text",
        "id": "70rDgxYXkC8r"
      },
      "source": [
        "Respuesta"
      ]
    },
    {
      "cell_type": "code",
      "metadata": {
        "colab_type": "code",
        "id": "CJb5sQ0qkENy",
        "outputId": "e6ba45ab-1166-4498-dd11-33f9d9984c7c",
        "colab": {
          "base_uri": "https://localhost:8080/",
          "height": 70
        }
      },
      "source": [
        "# Utilizamos listas para almacenar los numeros y las operaciones.\n",
        "# Utilizamos una funcion para resolver una ecuacion dada.\n",
        "# Para buscar las posibles respuestas al problema, se hace una permutacion en las operaciones y otra permutacion \n",
        "# en los numeros. Despues tenemos dos for loops anidados para correr la funcion en cada combinacion e imprimir la respuesta,\n",
        "# ademas de contar el numero de posibles soluciones.\n",
        "\n",
        "def encontrar_ecuaciones_fuerza_bruta(objetivo, imprime=False):\n",
        "    cifras = list(range(1,10))\n",
        "    nr_ecuaciones_visitadas = 0\n",
        "    hay_ecuacion = False\n",
        "    for operacion in permutations(['+','-','*','/'],4):\n",
        "        for cifra in permutations(cifras,5):\n",
        "            operacion_ = list(operacion)\n",
        "            cifra_ = list(cifra)\n",
        "            result = resolver(cifra_,operacion_)\n",
        "            nr_ecuaciones_visitadas += 1\n",
        "            if result == objetivo:\n",
        "                hay_ecuacion = True\n",
        "                if imprime:\n",
        "                    print(cifra[0],operacion[0],cifra[1],operacion[1],cifra[2],operacion[2],cifra[3],operacion[3],cifra[4])\n",
        "                break\n",
        "        if result == objetivo:\n",
        "            break\n",
        "    if hay_ecuacion == False:\n",
        "        print('No hay ecuacion posible')\n",
        "    if imprime:\n",
        "        print('Numero de ecuaciones visitadas para encontrar el resultado = ',nr_ecuaciones_visitadas)\n",
        "    return nr_ecuaciones_visitadas\n",
        "    \n",
        "            \n",
        "encontrar_ecuaciones_fuerza_bruta(1.3,imprime=True)"
      ],
      "execution_count": 0,
      "outputs": [
        {
          "output_type": "stream",
          "text": [
            "2 - 1 + 6 / 4 * 5\n",
            "Numero de ecuaciones visitadas para encontrar el resultado =  107617\n"
          ],
          "name": "stdout"
        },
        {
          "output_type": "execute_result",
          "data": {
            "text/plain": [
              "107617"
            ]
          },
          "metadata": {
            "tags": []
          },
          "execution_count": 7
        }
      ]
    },
    {
      "cell_type": "markdown",
      "metadata": {
        "colab_type": "text",
        "id": "tgrnsC2nkFa8"
      },
      "source": [
        "Calcula la complejidad del algoritmo por fuerza bruta"
      ]
    },
    {
      "cell_type": "markdown",
      "metadata": {
        "colab_type": "text",
        "id": "9eUd3xwckP68"
      },
      "source": [
        "Respuesta"
      ]
    },
    {
      "cell_type": "code",
      "metadata": {
        "colab_type": "code",
        "id": "rvZWwL-ckRST",
        "colab": {}
      },
      "source": [
        "# El algoritmo de fuerza bruta no es muy complejo, porque solo hace dos loops anidados y comprueba el valor a cada paso."
      ],
      "execution_count": 0,
      "outputs": []
    },
    {
      "cell_type": "code",
      "metadata": {
        "id": "Zymy6Lb3NhmC",
        "colab_type": "code",
        "outputId": "712fe9fb-a023-4bad-a8a9-42f7abdbfc54",
        "colab": {
          "base_uri": "https://localhost:8080/",
          "height": 265
        }
      },
      "source": [
        "# Para obtener una idea de la complejidad, se crea una visualizacion de cuantas ecuaciones son visitadas para\n",
        "# la busqueda de cada numero del 1 al 30.\n",
        "\n",
        "import matplotlib.pyplot as plt\n",
        "\n",
        "nr_ecuaciones_visitadas = []\n",
        "for i in range(1,31):\n",
        "    nr_ecuaciones_visitadas.append(encontrar_ecuaciones_fuerza_bruta(i,imprime=False))\n",
        "    \n",
        "plt.plot(range(1,31),nr_ecuaciones_visitadas)\n",
        "plt.show()"
      ],
      "execution_count": 0,
      "outputs": [
        {
          "output_type": "display_data",
          "data": {
            "image/png": "[encoded data removed]",
            "text/plain": [
              "<Figure size 432x288 with 1 Axes>"
            ]
          },
          "metadata": {
            "tags": []
          }
        }
      ]
    },
    {
      "cell_type": "markdown",
      "metadata": {
        "colab_type": "text",
        "id": "txbrmLmskReM"
      },
      "source": [
        "(*)Diseña un algoritmo que mejore la complejidad del algortimo por fuerza bruta. Argumenta porque crees que mejora el algoritmo por fuerza bruta"
      ]
    },
    {
      "cell_type": "markdown",
      "metadata": {
        "colab_type": "text",
        "id": "hLrVwt5QkZPD"
      },
      "source": [
        "Respuesta"
      ]
    },
    {
      "cell_type": "code",
      "metadata": {
        "colab_type": "code",
        "id": "m1eyM21Vkabg",
        "outputId": "db9eadb7-ccef-43a2-8610-227d80d034a3",
        "colab": {
          "base_uri": "https://localhost:8080/",
          "height": 70
        }
      },
      "source": [
        "# Utilizamos listas para almacenar los numeros y las operaciones.\n",
        "# Utilizamos una funcion para resolver una ecuacion dada.\n",
        "# Fijamos el primer numero de la ecuacion de acuerdo a ciertas condiciones:\n",
        "#          Si objetivo == 1 --> fija 1\n",
        "#         de lo contrario --> fija 9\n",
        "# Tambien fijamos el segundo numero de acuerdo a ciertas condiciones:\n",
        "#          Si objetivo == 1 --> fija 2\n",
        "#         Si objetivo <9  --> fija 1\n",
        "#         Si objetivo>9  --> fija 8\n",
        "# Fijamos las operaciones\n",
        "# Para buscar las posibles respuestas al problema, se hace una  permutacion \n",
        "# en los numeros restantes. Se cuenta el numero de ecuaciones visitadas hasta llegar a la respuesta.\n",
        "# Este algoritmo esta dirigido para numeros enteros pero no para decimales.\n",
        "\n",
        "def encontrar_ecuaciones_fuerza_bruta_mejor(objetivo, imprime=True):\n",
        "    # lista con todas las cifras\n",
        "    cifras = list(range(1,10))\n",
        "    # inicializa el numero de ec. visitadas\n",
        "    nr_ecuaciones_visitadas = 0\n",
        "    \n",
        "    # boolean para verificacion si el algoritmo encuentra una solucion (ecuacion) para el objetivo.\n",
        "    hay_ecuacion = False\n",
        "    \n",
        "    # para mejorar la fuerza bruta, se remueven de las cifras los dos primeros numeros y se reduce el espacio de soluciones. (menos interaciones)\n",
        "    if objetivo == 1:\n",
        "        cifras.remove(1)\n",
        "        cifras.remove(2)\n",
        "    elif objetivo < 9:\n",
        "        cifras.remove(9)\n",
        "        cifras.remove(1)\n",
        "    else:\n",
        "        cifras.remove(9)\n",
        "        cifras.remove(8)\n",
        "    \n",
        "    \n",
        "    operacion = ['+','*','/','-']\n",
        "    #for operacion in permutations(['/','-'],2):\n",
        "    for cifra in permutations(cifras,3):\n",
        "        \n",
        "        operacion_ = list(operacion)\n",
        "        \n",
        "        cifra_ = list(cifra)\n",
        "        \n",
        "        # para mejorar la fuerza bruta, se fijan los dos primeros numeros y se reduce el espacio de soluciones \n",
        "        #(menos iteraciones)\n",
        "        if objetivo == 1:\n",
        "            cifra_.insert(0,2)\n",
        "            cifra_.insert(0,1)\n",
        "        elif objetivo < 9:\n",
        "            cifra_.insert(0,9)\n",
        "            cifra_.insert(0,1)\n",
        "        else:\n",
        "            cifra_.insert(0,9)\n",
        "            cifra_.insert(1,8)\n",
        "\n",
        "        result = resolver(cifra_,operacion_) # funcion para resolver la ecuacion dada\n",
        "        nr_ecuaciones_visitadas += 1\n",
        "        # comprueba que esta ecuacion es igual al objetivo\n",
        "        if result == objetivo:\n",
        "            hay_ecuacion = True\n",
        "\n",
        "            cifra = list(cifra)\n",
        "            if objetivo == 1:\n",
        "                cifra.insert(0,2)\n",
        "                cifra.insert(0,1)\n",
        "            elif objetivo < 9:\n",
        "                cifra.insert(0,9)\n",
        "                cifra.insert(0,1)\n",
        "            else:\n",
        "                cifra.insert(0,9)\n",
        "                cifra.insert(1,8)\n",
        "\n",
        "            operacion = list(operacion)\n",
        "            \n",
        "\n",
        "            if imprime:\n",
        "                print(cifra[0],operacion[0],cifra[1],operacion[1],cifra[2],operacion[2],cifra[3],operacion[3],cifra[4])\n",
        "            break\n",
        "        #if result == objetivo:\n",
        "        #   break\n",
        "    if hay_ecuacion == False:\n",
        "        print('No hay ecuacion posible')\n",
        "    if imprime:\n",
        "        print('Numero de ecuaciones visitadas para encontrar el resultado = ',nr_ecuaciones_visitadas)\n",
        "    return nr_ecuaciones_visitadas\n",
        "    \n",
        "            \n",
        "encontrar_ecuaciones_fuerza_bruta_mejor(1)"
      ],
      "execution_count": 0,
      "outputs": [
        {
          "output_type": "stream",
          "text": [
            "1 + 2 * 6 / 3 - 4\n",
            "Numero de ecuaciones visitadas para encontrar el resultado =  91\n"
          ],
          "name": "stdout"
        },
        {
          "output_type": "execute_result",
          "data": {
            "text/plain": [
              "91"
            ]
          },
          "metadata": {
            "tags": []
          },
          "execution_count": 10
        }
      ]
    },
    {
      "cell_type": "markdown",
      "metadata": {
        "colab_type": "text",
        "id": "eGDB4K6uk1iN"
      },
      "source": [
        "(*)Calcula la complejidad del algoritmo "
      ]
    },
    {
      "cell_type": "markdown",
      "metadata": {
        "colab_type": "text",
        "id": "NhpTh_BPk1ms"
      },
      "source": [
        "Respuesta"
      ]
    },
    {
      "cell_type": "code",
      "metadata": {
        "colab_type": "code",
        "id": "nREzhkStlCq8",
        "outputId": "7fdc5a66-a6a9-49f0-c539-e497bf6101e7",
        "colab": {
          "base_uri": "https://localhost:8080/",
          "height": 265
        }
      },
      "source": [
        "# Este algoritmo hace tambien una busqueda por las permutaciones posibles como en el de fuerza bruta, pero se ponen  \n",
        "# restriciones adicionales para que se tenga un espacio de soluciones reducidas. Con esto se busca mucho mas rapido \n",
        "# porque se eliminan muchas ecuaciones que no nos llevan al resultado.\n",
        "\n",
        "import matplotlib.pyplot as plt\n",
        "\n",
        "nr_ecuaciones_visitadas = []\n",
        "for i in range(1,31):\n",
        "    nr_ecuaciones_visitadas.append(encontrar_ecuaciones_fuerza_bruta_mejor(i,imprime=False))\n",
        "    \n",
        "plt.plot(range(1,31),nr_ecuaciones_visitadas,'o')\n",
        "plt.show()"
      ],
      "execution_count": 0,
      "outputs": [
        {
          "output_type": "display_data",
          "data": {
            "image/png": "[encoded data removed]",
            "text/plain": [
              "<Figure size 432x288 with 1 Axes>"
            ]
          },
          "metadata": {
            "tags": []
          }
        }
      ]
    },
    {
      "cell_type": "markdown",
      "metadata": {
        "colab_type": "text",
        "id": "3M6QjTsSkmYe"
      },
      "source": [
        "Según el problema (y tenga sentido), diseña un juego de datos de entrada aleatorios"
      ]
    },
    {
      "cell_type": "markdown",
      "metadata": {
        "colab_type": "text",
        "id": "Jc3_OlyNkvjZ"
      },
      "source": [
        "Respuesta"
      ]
    },
    {
      "cell_type": "code",
      "metadata": {
        "colab_type": "code",
        "id": "sJ-N2etjkyWc",
        "outputId": "2dcc8170-6da7-4a35-9dea-3eac868a23d4",
        "colab": {
          "base_uri": "https://localhost:8080/",
          "height": 34
        }
      },
      "source": [
        "import numpy as np\n",
        "\n",
        "# lista de entrada de datos aleatorio\n",
        "entradas = np.random.randint(1,30,10)\n",
        "\n",
        "entradas"
      ],
      "execution_count": 0,
      "outputs": [
        {
          "output_type": "execute_result",
          "data": {
            "text/plain": [
              "array([19, 16, 12,  6,  6, 24,  2,  9, 19, 13])"
            ]
          },
          "metadata": {
            "tags": []
          },
          "execution_count": 12
        }
      ]
    },
    {
      "cell_type": "markdown",
      "metadata": {
        "colab_type": "text",
        "id": "zy5ZROmjlGo1"
      },
      "source": [
        "Aplica el algoritmo al juego de datos generado"
      ]
    },
    {
      "cell_type": "markdown",
      "metadata": {
        "colab_type": "text",
        "id": "_Cmj-PVylMsa"
      },
      "source": [
        "Respuesta"
      ]
    },
    {
      "cell_type": "code",
      "metadata": {
        "colab_type": "code",
        "id": "Jkx8GeiYlUz1",
        "outputId": "8031167d-cb89-4e8f-a445-c7ac3411c2b3",
        "colab": {
          "base_uri": "https://localhost:8080/",
          "height": 545
        }
      },
      "source": [
        "for entrada in entradas:\n",
        "    print('Entrada = ',entrada)\n",
        "    encontrar_ecuaciones_fuerza_bruta_mejor(entrada,imprime=True)"
      ],
      "execution_count": 0,
      "outputs": [
        {
          "output_type": "stream",
          "text": [
            "Entrada =  19\n",
            "9 + 8 * 2 / 1 - 6\n",
            "Numero de ecuaciones visitadas para encontrar el resultado =  34\n",
            "Entrada =  16\n",
            "9 + 8 * 3 / 2 - 5\n",
            "Numero de ecuaciones visitadas para encontrar el resultado =  68\n",
            "Entrada =  12\n",
            "9 + 8 * 2 / 4 - 1\n",
            "Numero de ecuaciones visitadas para encontrar el resultado =  41\n",
            "Entrada =  6\n",
            "1 + 9 * 4 / 3 - 7\n",
            "Numero de ecuaciones visitadas para encontrar el resultado =  69\n",
            "Entrada =  6\n",
            "1 + 9 * 4 / 3 - 7\n",
            "Numero de ecuaciones visitadas para encontrar el resultado =  69\n",
            "Entrada =  24\n",
            "9 + 8 * 4 / 2 - 1\n",
            "Numero de ecuaciones visitadas para encontrar el resultado =  96\n",
            "Entrada =  2\n",
            "1 + 9 * 2 / 3 - 5\n",
            "Numero de ecuaciones visitadas para encontrar el resultado =  2\n",
            "Entrada =  9\n",
            "9 + 8 * 1 / 2 - 4\n",
            "Numero de ecuaciones visitadas para encontrar el resultado =  2\n",
            "Entrada =  19\n",
            "9 + 8 * 2 / 1 - 6\n",
            "Numero de ecuaciones visitadas para encontrar el resultado =  34\n",
            "Entrada =  13\n",
            "9 + 8 * 3 / 4 - 2\n",
            "Numero de ecuaciones visitadas para encontrar el resultado =  72\n"
          ],
          "name": "stdout"
        }
      ]
    },
    {
      "cell_type": "markdown",
      "metadata": {
        "colab_type": "text",
        "id": "eTFWUJQrtGcv"
      },
      "source": [
        "Enumera las referencias que has utilizado(si ha sido necesario) para llevar a cabo el trabajo"
      ]
    },
    {
      "cell_type": "markdown",
      "metadata": {
        "colab_type": "text",
        "id": "YKQ_mRBttWsP"
      },
      "source": [
        "Respuesta"
      ]
    },
    {
      "cell_type": "markdown",
      "metadata": {
        "id": "JuVDUzZLNhnA",
        "colab_type": "text"
      },
      "source": [
        "https://www.geeksforgeeks.org/backtracking-algorithms/\n",
        "\n",
        "https://docs.python.org/2/library/itertools.html"
      ]
    },
    {
      "cell_type": "markdown",
      "metadata": {
        "colab_type": "text",
        "id": "kAkDPUyRtYyH"
      },
      "source": [
        "Describe brevemente las lineas de como crees que es posible avanzar en el estudio del problema. Ten en cuenta incluso posibles variaciones del problema y/o variaciones al alza del tamaño"
      ]
    },
    {
      "cell_type": "markdown",
      "metadata": {
        "colab_type": "text",
        "id": "IE0uZmo-tZu-"
      },
      "source": [
        "Respuesta"
      ]
    },
    {
      "cell_type": "markdown",
      "metadata": {
        "id": "Y10qbS7QNhnJ",
        "colab_type": "text"
      },
      "source": [
        "La solucion de este problema esta basada en la construcion de un arbol de decisiones, en cada nodo tenemos una posible ecuacion y esta puede llevar al objetivo o no. Las variaciones de este problema pueden ser, la inclusion de exponenciacion en las operaciones, asi como tambien, más o menos numeros en las cifras. Para cada uno de estos lo que se cambia es el numero de nodos en el arbol de decisiones, se torna más o menos complejo. Asi, en el estudio de este problema, es importante definir un algoritmo que puede buscar de forma eficiente la solucion,visto que es posible que haya muchos nodos que hayan sido visitados."
      ]
    },
    {
      "cell_type": "code",
      "metadata": {
        "id": "aqRNRQdTNhnL",
        "colab_type": "code",
        "colab": {}
      },
      "source": [
        ""
      ],
      "execution_count": 0,
      "outputs": []
    }
  ]
}