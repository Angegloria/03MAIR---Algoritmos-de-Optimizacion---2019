{
  "nbformat": 4,
  "nbformat_minor": 0,
  "metadata": {
    "kernelspec": {
      "display_name": "Python 3",
      "language": "python",
      "name": "python3"
    },
    "language_info": {
      "codemirror_mode": {
        "name": "ipython",
        "version": 3
      },
      "file_extension": ".py",
      "mimetype": "text/x-python",
      "name": "python",
      "nbconvert_exporter": "python",
      "pygments_lexer": "ipython3",
      "version": "3.7.4"
    },
    "colab": {
      "name": "Gloria_Angelina_Estrada_Galindo_AG2.ipynb",
      "provenance": [],
      "include_colab_link": true
    }
  },
  "cells": [
    {
      "cell_type": "markdown",
      "metadata": {
        "id": "view-in-github",
        "colab_type": "text"
      },
      "source": [
        "<a href=\"https://colab.research.google.com/github/Angegloria/03MAIR---Algoritmos-de-Optimizacion---2019/blob/master/AG2/Gloria_Angelina_Estrada_Galindo_AG2.ipynb\" target=\"_parent\"><img src=\"https://colab.research.google.com/assets/colab-badge.svg\" alt=\"Open In Colab\"/></a>"
      ]
    },
    {
      "cell_type": "markdown",
      "metadata": {
        "id": "mON8PUdrnIjE",
        "colab_type": "text"
      },
      "source": [
        " \n",
        "## AG2 - Actividad Guiada 2\n",
        "\n",
        "Nombre y Apellidos:   <br> Gloria Angelina Estrada Galindo\n",
        "\n",
        "Url: https://github.com/Angegloria/03MAIR---Algoritmos-de-Optimizacion---2019/blob/master/AG2/Gloria_Angelina_Estrada_Galindo_AG2.ipynb<br>\n",
        "\n",
        "\n"
      ]
    },
    {
      "cell_type": "markdown",
      "metadata": {
        "id": "6SgcZ6VFnIjH",
        "colab_type": "text"
      },
      "source": [
        "• Desarrollar algoritmos de búsqueda en  amplitud para resolver problemas\n",
        "\n",
        "Este algoritmo se usa para buscar elementos en un grafo, en este caso con el algoritmo de busqueda de amplitud se uso para buscar el camino mas corto. Tambien se  le denomina busqueda de anchura y la idea es recorrer un arbol por niveles; teniendo un nodo v, se visitan primero todos los nodos adyacentes a v, luego los nodos que esten a distancia 2 (no visitados),inmediatamente a distancia 3, y similarmente hasta recorrer todos los nodos."
      ]
    },
    {
      "cell_type": "code",
      "metadata": {
        "id": "rIeb_GWCnIjI",
        "colab_type": "code",
        "colab": {},
        "outputId": "af26bcff-3214-4195-dde6-b78bde813a51"
      },
      "source": [
        "import numpy as np\n",
        "# breadth first search )algoritmo de busqueda de amplitud, para buscar el camino mas corto\n",
        "graph = {'A':['B','E','C'],\n",
        "         'B':['A','E','D'],\n",
        "         'C':['A','F','G'],\n",
        "         'D':['B','E'],\n",
        "         'E':['A','B','D'],\n",
        "         'F':['C'],\n",
        "         'G':['C']}\n",
        "\n",
        "def bfs(graph,start,end):\n",
        "    \n",
        "    # los nodos visitados\n",
        "    visited = []\n",
        "    \n",
        "    # los caminos posibles\n",
        "    paths = [[start]]\n",
        "    \n",
        "    if start == end:\n",
        "        print('El nodo que empieza es el mismo que el destino.')\n",
        "        \n",
        "    while paths:\n",
        "        # captura el primer camino\n",
        "        path = paths.pop(0)\n",
        "        node = path[-1]\n",
        "        if node not in visited:\n",
        "            neighbors = graph[node]\n",
        "            for neighbor in neighbors:\n",
        "                new_path = path.copy()\n",
        "                new_path.append(neighbor)\n",
        "                paths.append(new_path)\n",
        "                if neighbor == end:\n",
        "                    return new_path\n",
        "            visited.append(node)\n",
        "            \n",
        "    return 'No hay un camino entre estos nodos'\n",
        "                \n",
        "bfs(graph,'G','A')"
      ],
      "execution_count": 0,
      "outputs": [
        {
          "output_type": "execute_result",
          "data": {
            "text/plain": [
              "['G', 'C', 'A']"
            ]
          },
          "metadata": {
            "tags": []
          },
          "execution_count": 1
        }
      ]
    },
    {
      "cell_type": "markdown",
      "metadata": {
        "id": "HtM7SqLcnIjN",
        "colab_type": "text"
      },
      "source": [
        "• Desarrollar algoritmos de búsqueda en  profundidad para resolver problemas\n",
        "\n",
        "La busqueda en profundidad es un algoritmo de busqueda que se usa para recorrer todos los nodos de un grafo o arbol de forma ordenada,pero no uniforme. Este algortimo se encarga de buscar profundamente un determinado elemento de manera que primero analiza los nodos más profundos y por ultimo el resto."
      ]
    },
    {
      "cell_type": "code",
      "metadata": {
        "id": "rJj1ry6gnIjO",
        "colab_type": "code",
        "colab": {},
        "outputId": "dd792819-e001-42ba-d4c8-44c373c03a42"
      },
      "source": [
        "grafo = {1:0, 2:0, 3:0, 4:1, 5:1, 7:2, 8:3, 9:3, 10:4, 11:5, 6:7, 10:9, 12:11, 13:11}\n",
        "\n",
        "# La variable que encuentra el numero requerido con el camino mas corto\n",
        "camino=[]\n",
        "\n",
        "def busca_profundidad (inicio, objetivo):\n",
        "\n",
        "    \"\"\"\n",
        "    La funcion de busqueda en profundidad necesita encontrar\n",
        "    -El valor inicial\n",
        "    -El valor a encontrar\n",
        "    Regresar el valor encontrado o  el 0  en caso de no encontrarlo\n",
        "    \n",
        "    \"\"\"\n",
        "    camino.append(inicio)\n",
        "    \n",
        "\n",
        "# En caso de encontrar un valor, se regresa\n",
        "\n",
        "    if inicio == objetivo:\n",
        "          return(objetivo)\n",
        "      \n",
        "    \n",
        "# se caminan todos los elementos para encontrar el valor inicial\n",
        "\n",
        "    for k,v in grafo.items():\n",
        "        \n",
        "       \n",
        "        if v==inicio:\n",
        "            \n",
        "# Se nombra a la funcion recursivamente a traves del nuevo padre\n",
        "            result=busca_profundidad(k, objetivo)\n",
        "\n",
        "\n",
        "# Si hay un resultado significa que se encontro el elemento buscado\n",
        "        \n",
        "            if result:\n",
        "                return result\n",
        "       \n",
        " \n",
        "\n",
        "    camino.pop()\n",
        "    \n",
        " # Cuando se esta en este punto es porque se llego al fin de la profundidad\n",
        "    return 0\n",
        "\n",
        "result=busca_profundidad(0,10)\n",
        "\n",
        "if result:\n",
        "    print(camino)\n",
        "\n",
        "else:\n",
        "    print(\"no encontrado\")"
      ],
      "execution_count": 0,
      "outputs": [
        {
          "output_type": "stream",
          "text": [
            "[0, 3, 9, 10]\n"
          ],
          "name": "stdout"
        }
      ]
    },
    {
      "cell_type": "markdown",
      "metadata": {
        "id": "gQSOTzHrnIjS",
        "colab_type": "text"
      },
      "source": [
        "• Desarrollar algoritmos con la técnica de ramificación y poda para resolver problemas\n",
        "\n",
        "El algoritmo de ramificacion y poda se define como un arbol de soluciones, donde cada rama nos lleva a una posible solucion, tambien es un algoritmo de optimizacion.\n",
        "En este ejemplo, se obtiene uno por uno los items del arbol de decision y se obtiene el beneficio de los hijos de cada item\n",
        "tambien, se actualiza el beneficio maximo (maxProfit) en cada paso y se encuentra el maximo beneficio posible."
      ]
    },
    {
      "cell_type": "code",
      "metadata": {
        "id": "NopHwHrKnIjT",
        "colab_type": "code",
        "colab": {}
      },
      "source": [
        "from scipy.optimize import minimize\n",
        "import numpy as np\n",
        "\n",
        "def branch_and_bound(fun,cons,x0,bnds):\n",
        "    nr_variables = len(x0) # numero de variables de decision\n",
        "    \n",
        "    # calcula una solucion inicial con valores enteros o no enteros\n",
        "    res = minimize(fun, x0, method='SLSQP', bounds=bnds,\n",
        "                constraints=cons)\n",
        "    \n",
        "    # inicializa una fila para guardar los nodos\n",
        "    queue = []\n",
        "    queue.append((res,bnds)) # adiciona el nodo inicial\n",
        "    \n",
        "    mejor_sol = res # guarda la mejor solucion\n",
        "    \n",
        "    # Hace iteracion hasta tener todas las variables de decision como enteros\n",
        "    while len(queue) > 0:\n",
        "        \n",
        "        res,bnds = queue.pop(0)\n",
        "        \n",
        "        # de la solucion anterior, busca las variables de decision con mayores valores y guarda los indices\n",
        "        # que ordenen estas variables\n",
        "        idx_sort = np.argsort(res.x)[::-1]\n",
        "        ubnds = bnds.copy() # inicializa upper bound \n",
        "        lbnds = bnds.copy() # inicializa lower bound\n",
        "        # itera en las variables de decision para fijar en 0 o 1 el valor mayor que no este ya fijado\n",
        "        for idx in idx_sort:\n",
        "            if bnds[idx] == (0,None):\n",
        "                ubnds[idx] = (1,1)\n",
        "                lbnds[idx] = (0,0)\n",
        "                break\n",
        "        \n",
        "        if (0,None) not in bnds: # cuando todos los limites (bounds) estan fijados, retorna la respuesta\n",
        "            return res\n",
        "        \n",
        "        # busca la solucion optima con los limites superiores e inferiores, generando dos nodos hijos del nodo anterior.\n",
        "        ubres = minimize(fun, x0, method='SLSQP', bounds=ubnds, constraints=cons)\n",
        "        lbres = minimize(fun, x0, method='SLSQP', bounds=lbnds, constraints=cons)\n",
        "        \n",
        "        \n",
        "        # Caso 1 comprueba si la mejor solucion es mayor que la solucion actual, en caso contrario cambia el valor guardado\n",
        "        # de mejor solucion\n",
        "        if abs(mejor_sol.fun) > abs(ubres.fun):\n",
        "            pass\n",
        "        else:\n",
        "            if ubres.success == True:\n",
        "                mejor_sol = ubres\n",
        "        if abs(mejor_sol.fun) > abs(ubres.fun):\n",
        "            pass\n",
        "        else:\n",
        "            if lbres.success == True:\n",
        "                mejor_sol = lbres\n",
        "                \n",
        "        # comprueba si el nodo es factible (success = True), y en caso positivo se guarda en la fila el nodo con mayor valor\n",
        "        if ubres.success == True:\n",
        "            if lbres.success == True:\n",
        "                if abs(ubres.fun) > abs(lbres.fun):\n",
        "                    queue.append((ubres,ubnds))\n",
        "                else:\n",
        "                    queue.append((lbres,lbnds))\n",
        "            else:\n",
        "                queue.append((ubres,ubnds))\n",
        "        else:\n",
        "            if lbres.success == True:\n",
        "                queue.append((lbres,lbnds))\n",
        "       \n",
        "       "
      ],
      "execution_count": 0,
      "outputs": []
    },
    {
      "cell_type": "code",
      "metadata": {
        "id": "4zYH_5x4nIjV",
        "colab_type": "code",
        "colab": {},
        "outputId": "24828b8d-8d1f-4234-cb08-dd8c9a1e3c56"
      },
      "source": [
        "fun = lambda x: -(15*x[0] + 12*x[1] +4*x[2] + 2*x[3])\n",
        "cons = ({'type': 'ineq', 'fun': lambda x:  -(8*x[0] + 5*x[1] + 3*x[2] + 2*x[3]-10)})\n",
        "bnds = [(0, None), (0, None),(0,None),(0,None)]\n",
        "x0 = (0,0,0,0)\n",
        "branch_and_bound(fun,cons,x0,bnds)"
      ],
      "execution_count": 0,
      "outputs": [
        {
          "output_type": "execute_result",
          "data": {
            "text/plain": [
              "     fun: -18.0\n",
              "     jac: array([-15., -12.,  -4.,  -2.])\n",
              " message: 'Optimization terminated successfully.'\n",
              "    nfev: 6\n",
              "     nit: 1\n",
              "    njev: 1\n",
              "  status: 0\n",
              " success: True\n",
              "       x: array([0., 1., 1., 1.])"
            ]
          },
          "metadata": {
            "tags": []
          },
          "execution_count": 4
        }
      ]
    },
    {
      "cell_type": "code",
      "metadata": {
        "id": "BlsU0UBenIjY",
        "colab_type": "code",
        "colab": {},
        "outputId": "aff8a49a-3581-445b-f758-d041e331ef5b"
      },
      "source": [
        "# Problema de la mochila 0/1\n",
        "# los items tienen valores 40, 50, 100, 95, 30 y se quiere maximizar el valor total\n",
        "# la capacidad de la mochila es 10\n",
        "# El peso de los items es 2, 3.14, 1.98, 5 y 3\n",
        "# solo puedo poner 1 item de cada tipo (o no ponerlo)\n",
        "fun = lambda x: -(40*x[0] + 50*x[1] +100*x[2] + 95*x[3] + 30*x[4])\n",
        "cons = ({'type': 'ineq', 'fun': lambda x:  -(2*x[0] + 3.14*x[1] + 1.98*x[2] + 5*x[3] + 3*x[4] -10)})\n",
        "bnds = [(0, None), (0, None),(0,None),(0,None),(0,None)]\n",
        "x0 = (0,0,0,0,0)\n",
        "branch_and_bound(fun,cons,x0,bnds)  "
      ],
      "execution_count": 0,
      "outputs": [
        {
          "output_type": "execute_result",
          "data": {
            "text/plain": [
              "     fun: -235.0\n",
              "     jac: array([ -40.,  -50., -100.,  -95.,  -30.])\n",
              " message: 'Optimization terminated successfully.'\n",
              "    nfev: 7\n",
              "     nit: 1\n",
              "    njev: 1\n",
              "  status: 0\n",
              " success: True\n",
              "       x: array([1., 0., 1., 1., 0.])"
            ]
          },
          "metadata": {
            "tags": []
          },
          "execution_count": 5
        }
      ]
    },
    {
      "cell_type": "markdown",
      "metadata": {
        "id": "VYc6T79jnIjb",
        "colab_type": "text"
      },
      "source": [
        "• Modelar problemas y elección del algoritmo adecuado.\n",
        "\n",
        "En el siguiente ejercicio se trata de buscar la raiz de una funcion no lineal.La construccion de modelos revela problemas que no se ven a primera vista en otros modelos,cuando se construye un modelo matematico es posible obtener propiedades y caracteristicas de las relaciones que de otra forma estarian ocultas, tambien se reflejan situaciones complejas que no se pueden hacer en otro tipo de modelos y de ahi la importancia de modelizar y escoger el algoritmo adecuado."
      ]
    },
    {
      "cell_type": "code",
      "metadata": {
        "id": "Adt0yP3pnIjc",
        "colab_type": "code",
        "colab": {},
        "outputId": "ef7aa6e9-0d84-4538-eb49-e053f53d20a7"
      },
      "source": [
        "# El problema de buscar la raiz(es) de una funcion no lineal\n",
        "f = lambda x: (1-x[0])**2 + 100*(x[1] - x[0]**2)**2\n",
        "\n",
        "xn_1 = np.array([2,2]) # x(n-1)\n",
        "xn = np.array([0,0]) # x(n)\n",
        "fn_1 = f(xn_1)\n",
        "fn = f(xn)\n",
        "iter_ = 0\n",
        "\n",
        "print(f'iter \\t x \\t \\t \\t f')\n",
        "\n",
        "while fn > 1e-6:\n",
        "   \n",
        "    xnew = xn - (xn-xn_1)/(fn-fn_1)*fn\n",
        "    fn_1 = fn\n",
        "    xn_1 = xn\n",
        "    xn = xnew\n",
        "    fn = f(xnew)\n",
        "    iter_ += 1\n",
        "    print(f'{iter_} \\t {xn[0]:.3f},{xn[1]:.3f} \\t {fn:.3e}')"
      ],
      "execution_count": 0,
      "outputs": [
        {
          "output_type": "stream",
          "text": [
            "iter \t x \t \t \t f\n",
            "1 \t -0.005,-0.005 \t 1.013e+00\n",
            "2 \t 0.398,0.398 \t 6.106e+00\n",
            "3 \t -0.085,-0.085 \t 2.032e+00\n",
            "4 \t -0.326,-0.326 \t 2.050e+01\n",
            "5 \t -0.059,-0.059 \t 1.506e+00\n",
            "6 \t -0.037,-0.037 \t 1.227e+00\n",
            "7 \t 0.056,0.056 \t 1.169e+00\n",
            "8 \t 1.953,1.953 \t 3.469e+02\n",
            "9 \t 0.049,0.049 \t 1.124e+00\n",
            "10 \t 0.043,0.043 \t 1.087e+00\n",
            "11 \t -0.135,-0.135 \t 3.620e+00\n",
            "12 \t 0.120,0.120 \t 1.882e+00\n",
            "13 \t 0.395,0.395 \t 6.075e+00\n",
            "14 \t -0.004,-0.004 \t 1.010e+00\n",
            "15 \t -0.084,-0.084 \t 1.995e+00\n",
            "16 \t 0.077,0.077 \t 1.361e+00\n",
            "17 \t 0.423,0.423 \t 6.290e+00\n",
            "18 \t -0.018,-0.018 \t 1.070e+00\n",
            "19 \t -0.108,-0.108 \t 2.674e+00\n",
            "20 \t 0.042,0.042 \t 1.081e+00\n",
            "21 \t 0.145,0.145 \t 2.262e+00\n",
            "22 \t -0.051,-0.051 \t 1.398e+00\n",
            "23 \t -0.368,-0.368 \t 2.725e+01\n",
            "24 \t -0.034,-0.034 \t 1.195e+00\n",
            "25 \t -0.019,-0.019 \t 1.076e+00\n",
            "26 \t 0.119,0.119 \t 1.869e+00\n",
            "27 \t -0.205,-0.205 \t 7.578e+00\n",
            "28 \t 0.225,0.225 \t 3.635e+00\n",
            "29 \t 0.621,0.621 \t 5.683e+00\n",
            "30 \t -0.479,-0.479 \t 5.226e+01\n",
            "31 \t 0.755,0.755 \t 3.479e+00\n",
            "32 \t 0.843,0.843 \t 1.774e+00\n",
            "33 \t 0.935,0.935 \t 3.770e-01\n",
            "34 \t 0.959,0.959 \t 1.535e-01\n",
            "35 \t 0.976,0.976 \t 5.389e-02\n",
            "36 \t 0.986,0.986 \t 2.056e-02\n",
            "37 \t 0.991,0.991 \t 7.708e-03\n",
            "38 \t 0.995,0.995 \t 2.932e-03\n",
            "39 \t 0.997,0.997 \t 1.114e-03\n",
            "40 \t 0.998,0.998 \t 4.246e-04\n",
            "41 \t 0.999,0.999 \t 1.619e-04\n",
            "42 \t 0.999,0.999 \t 6.179e-05\n",
            "43 \t 1.000,1.000 \t 2.359e-05\n",
            "44 \t 1.000,1.000 \t 9.006e-06\n",
            "45 \t 1.000,1.000 \t 3.439e-06\n",
            "46 \t 1.000,1.000 \t 1.313e-06\n",
            "47 \t 1.000,1.000 \t 5.017e-07\n"
          ],
          "name": "stdout"
        }
      ]
    },
    {
      "cell_type": "code",
      "metadata": {
        "id": "sJ-_fAfqnIjf",
        "colab_type": "code",
        "colab": {}
      },
      "source": [
        ""
      ],
      "execution_count": 0,
      "outputs": []
    }
  ]
}