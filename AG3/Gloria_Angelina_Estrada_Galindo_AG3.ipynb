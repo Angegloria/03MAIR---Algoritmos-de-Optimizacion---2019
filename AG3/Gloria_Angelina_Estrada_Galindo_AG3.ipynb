{
  "nbformat": 4,
  "nbformat_minor": 0,
  "metadata": {
    "kernelspec": {
      "display_name": "Python 3",
      "language": "python",
      "name": "python3"
    },
    "language_info": {
      "codemirror_mode": {
        "name": "ipython",
        "version": 3
      },
      "file_extension": ".py",
      "mimetype": "text/x-python",
      "name": "python",
      "nbconvert_exporter": "python",
      "pygments_lexer": "ipython3",
      "version": "3.7.4"
    },
    "colab": {
      "name": "Gloria_Angelina_Estrada_Galindo_AG3.ipynb",
      "provenance": [],
      "include_colab_link": true
    }
  },
  "cells": [
    {
      "cell_type": "markdown",
      "metadata": {
        "id": "view-in-github",
        "colab_type": "text"
      },
      "source": [
        "<a href=\"https://colab.research.google.com/github/Angegloria/03MAIR---Algoritmos-de-Optimizacion---2019/blob/master/AG3/Gloria_Angelina_Estrada_Galindo_AG3.ipynb\" target=\"_parent\"><img src=\"https://colab.research.google.com/assets/colab-badge.svg\" alt=\"Open In Colab\"/></a>"
      ]
    },
    {
      "cell_type": "markdown",
      "metadata": {
        "id": "mESiSKy0qOCm",
        "colab_type": "text"
      },
      "source": [
        "## AG3 - Actividad Guiada 3\n",
        "\n",
        "Nombre y Apellidos:   <br> Gloria Angelina Estrada Galindo\n",
        "\n",
        "Url: https://github.com/Angegloria/03MAIR---Algoritmos-de-Optimizacion---2019/blob/master/AG3/Gloria_Angelina_Estrada_Galindo_AG3.ipynb<br>\n",
        "\n"
      ]
    },
    {
      "cell_type": "markdown",
      "metadata": {
        "id": "gjVBKxtaqOCp",
        "colab_type": "text"
      },
      "source": [
        "• Desarrollar algoritmos con la técnica del descenso del gradiente\n",
        "\n",
        "Este algoritmo es muy importante dentro de la inteligencia artificial, ya que es un algoritmo de optimizacion que converge hacia el valor minimo de una funcion.Tambien se usa para minimizar una funcion que mide el error de un modelo.En realidad el descenso del gradiente es la generalizacion vectorial de la derivada de una funcion."
      ]
    },
    {
      "cell_type": "code",
      "metadata": {
        "id": "b32tQ9avqOCr",
        "colab_type": "code",
        "colab": {},
        "outputId": "64188dbb-bc10-4e13-d783-f20ab5e52a4e"
      },
      "source": [
        "import numpy as np\n",
        "import matplotlib.pyplot as plt\n",
        "x = np.arange(1,10)\n",
        "y = 2*x+1\n",
        "plt.plot(x,y,'o')\n",
        "plt.show()"
      ],
      "execution_count": 0,
      "outputs": [
        {
          "output_type": "display_data",
          "data": {
            "image/png": "[encoded data removed]",
            "text/plain": [
              "<Figure size 432x288 with 1 Axes>"
            ]
          },
          "metadata": {
            "tags": [],
            "needs_background": "light"
          }
        }
      ]
    },
    {
      "cell_type": "code",
      "metadata": {
        "id": "EyIQfZxTqOCv",
        "colab_type": "code",
        "colab": {},
        "outputId": "a84a5d45-0fb9-428d-d93e-e6d23e486eef"
      },
      "source": [
        "error = lambda var: np.sum(y-(var[0]*x+var[1]))**2\n",
        "derror = lambda var: np.array([np.sum(-x*(y-(var[0]*x+var[1]))),np.sum(-(y-(var[0]*x+var[1])))])\n",
        "m0 = 2.5 # punto de partida\n",
        "b0 = 1.5 # punto de partida\n",
        "var0 = np.array([m0,b0])\n",
        "\n",
        "def gradient_descent(f,df,x0,lr=0.005, TOL=1e-6):\n",
        "    '''\n",
        "    Implementa la funcion de descenso del gradiente.\n",
        "    Entradas: \n",
        "        f - una funcion Python para minimizacion\n",
        "        df - la derivada (una funcion Python) de la funcion f\n",
        "        x0 - un numpy array, el punto de partida \n",
        "        lr - un float, tasa de aprendizaje (por defecto, 0.005)\n",
        "        TOL - un float, la tolerancia de conversion (por defecto, 1e-6)\n",
        "    Salida:\n",
        "        x - el punto que tiene el minimo de la funcion f\n",
        "    \n",
        "    '''\n",
        "    f_i = f(x0)\n",
        "    TOL_i = 1000\n",
        "    \n",
        "    x = x0\n",
        "    i = 0\n",
        "    #print(f\"{'i':2} \\t {'x':5} \\t {'f_i':5.3f} \\t {'TOL_i':5f}\")\n",
        "    while TOL_i > TOL:\n",
        "        f_old = f_i\n",
        "\n",
        "        df_i = df(x)\n",
        "        x = x - lr*df_i\n",
        "        f_i = f(x)\n",
        "        TOL_i = abs(f_i-f_old)\n",
        "        \n",
        "        if i%50 ==0:\n",
        "            print(f'{i:2} \\t {f_i:5.3f} \\t {TOL_i:5.3f}')\n",
        "        i += 1\n",
        "        if i > 1000:\n",
        "            print('Hay un error en la iteracion. No hay conversion')\n",
        "            break\n",
        "\n",
        "    return x\n",
        "\n",
        "var = gradient_descent(error,derror,var0)\n"
      ],
      "execution_count": 0,
      "outputs": [
        {
          "output_type": "stream",
          "text": [
            " 0 \t 128.596 \t 600.404\n",
            "50 \t 0.223 \t 0.004\n",
            "100 \t 0.088 \t 0.002\n",
            "150 \t 0.035 \t 0.001\n",
            "200 \t 0.014 \t 0.000\n",
            "250 \t 0.005 \t 0.000\n",
            "300 \t 0.002 \t 0.000\n",
            "350 \t 0.001 \t 0.000\n",
            "400 \t 0.000 \t 0.000\n",
            "450 \t 0.000 \t 0.000\n",
            "500 \t 0.000 \t 0.000\n"
          ],
          "name": "stdout"
        }
      ]
    },
    {
      "cell_type": "code",
      "metadata": {
        "id": "_Tw6_GAOqOCy",
        "colab_type": "code",
        "colab": {},
        "outputId": "a2f7c23c-3895-4d19-b0db-e7896bd50658"
      },
      "source": [
        "plt.plot(x,y,'o')\n",
        "plt.plot(x,var[0]*x+var[1],'--')\n"
      ],
      "execution_count": 0,
      "outputs": [
        {
          "output_type": "execute_result",
          "data": {
            "text/plain": [
              "[<matplotlib.lines.Line2D at 0x256ddd73e48>]"
            ]
          },
          "metadata": {
            "tags": []
          },
          "execution_count": 3
        },
        {
          "output_type": "display_data",
          "data": {
            "image/png": "[encoded data removed]",
            "text/plain": [
              "<Figure size 432x288 with 1 Axes>"
            ]
          },
          "metadata": {
            "tags": [],
            "needs_background": "light"
          }
        }
      ]
    },
    {
      "cell_type": "code",
      "metadata": {
        "id": "u8NE_6epqOC1",
        "colab_type": "code",
        "colab": {},
        "outputId": "1f980c08-a75a-433c-bb02-eb3feb4317a2"
      },
      "source": [
        "f2 = lambda x: x**2\n",
        "df2 = lambda x: 2*x\n",
        "x0 = 1\n",
        "\n",
        "x = gradient_descent(f2,df2,x0)"
      ],
      "execution_count": 0,
      "outputs": [
        {
          "output_type": "stream",
          "text": [
            " 0 \t 0.980 \t 0.020\n",
            "50 \t 0.359 \t 0.007\n",
            "100 \t 0.131 \t 0.003\n",
            "150 \t 0.048 \t 0.001\n",
            "200 \t 0.018 \t 0.000\n",
            "250 \t 0.006 \t 0.000\n",
            "300 \t 0.002 \t 0.000\n",
            "350 \t 0.001 \t 0.000\n",
            "400 \t 0.000 \t 0.000\n",
            "450 \t 0.000 \t 0.000\n"
          ],
          "name": "stdout"
        }
      ]
    },
    {
      "cell_type": "code",
      "metadata": {
        "id": "v37m3LixqOC3",
        "colab_type": "code",
        "colab": {},
        "outputId": "d13c3751-6994-4cfa-9964-415991d84314"
      },
      "source": [
        "x"
      ],
      "execution_count": 0,
      "outputs": [
        {
          "output_type": "execute_result",
          "data": {
            "text/plain": [
              "0.006978886433872219"
            ]
          },
          "metadata": {
            "tags": []
          },
          "execution_count": 5
        }
      ]
    },
    {
      "cell_type": "markdown",
      "metadata": {
        "id": "CX1Yu-o4qOC6",
        "colab_type": "text"
      },
      "source": [
        "• Desarrollar algoritmos con la técnica de búsqueda tabú\n",
        "\n",
        "Esta tecnica se basa en la busqueda de la solucion optima para escapar de optimos locales. Este algoritmo tambien es de optimizacion y por eso use el ejemplo de la mochila.La solucion de la tecnica tabu mantiene un numero de iteraciones hasta que satisface cierta condicion,llamada criterio de aspiracion. La caracteristica que diferencia a la busqueda local de otros metodos es su capacidad de memoria, ya que algunos metodos como los algoritmos geneticos o recocido simulado carecen de memoria, la busqueda tabu tiene memoria adaptativa.\n"
      ]
    },
    {
      "cell_type": "code",
      "metadata": {
        "id": "fD44ptcUqOC7",
        "colab_type": "code",
        "colab": {},
        "outputId": "43508065-f58a-440b-cd04-ee1c86f9dedf"
      },
      "source": [
        "# Problema de la mochila\n",
        "w = np.array([4,5,7,9,6]) # peso de cada objeto\n",
        "p = np.array([2,2,3,4,4]) # beneficio de cada objeto\n",
        "b = 23 # la capacidad de la mochila\n",
        "alpha = 15\n",
        "\n",
        "f = lambda s: np.sum(p*s) - alpha*np.max([0,(np.sum(w*s)-b)]) # funcion de evaluacion\n",
        "pt = lambda s: np.sum(w*s) # criterio de desempate\n",
        "\n",
        "s = [0,1,0,1,0]\n",
        "f_s = f(s)\n",
        "pt_s = pt(s)\n",
        "\n",
        "T = -1000 # lista tabu\n",
        "best_s = s\n",
        "best_f = f_s\n",
        "iter_ = 0\n",
        "best_iter = 0\n",
        "BTmax = 1 # el numero de iteraciones maximo sin mejora de best_s\n",
        "\n",
        "while True:\n",
        "    iter_ += 1\n",
        "    vecinos = [] # se obtienen los vecinos del punto actual\n",
        "    for idx in range(len(s)):\n",
        "        s2 = s.copy()\n",
        "        if s2[idx] == 0:\n",
        "            s2[idx] = 1\n",
        "        else:\n",
        "            s2[idx] = 0\n",
        "        vecinos.append(s2)\n",
        "    \n",
        "    # calcula pesos y beneficios\n",
        "    vecinos = np.array(vecinos)\n",
        "    pesos = np.array([pt(vecino) for vecino in vecinos])\n",
        "    func =  np.array([f(vecino) for vecino in vecinos])\n",
        "    \n",
        "\n",
        "    idx_best = np.argmax(func) # cual es el vecino con el mayor beneficio\n",
        "    if idx_best == T:\n",
        "        if idx_best == 0:\n",
        "            func[idx_best]= func[idx_best+1]-1\n",
        "        else:\n",
        "            func[idx_best]= func[idx_best-1]-1\n",
        "        idx_best = np.argmax(func) # cual es el vecino con el mayor beneficio\n",
        "\n",
        "    tie_check = func == func[idx_best]\n",
        "    if sum(tie_check) > 1: # si hay un empate, calcula el peso para desempatar\n",
        "        mejor_peso = -1000\n",
        "        for idx, valor in enumerate(func):\n",
        "            if valor == func[idx_best]:\n",
        "                if pesos[idx] < mejor_peso:\n",
        "                    mejor_peso = pesos[idx]\n",
        "                    idx_best = idx\n",
        "\n",
        "    best_f_iter = func[idx_best]\n",
        "    best_s_iter = vecinos[idx_best,:]\n",
        "    s = best_s_iter.copy()\n",
        "    T = idx_best # usa como tabu al mejor vecino\n",
        "\n",
        "    if best_f_iter > best_f:\n",
        "        best_f = best_f_iter\n",
        "        best_s = best_s_iter  \n",
        "        best_iter = iter_\n",
        "    \n",
        "    \n",
        "    if (iter_-best_iter)> BTmax: # cuando no hay mejor iteracion, entonces se detiene el algoritmo\n",
        "        break\n",
        "    \n",
        "    if iter_ > 10: # limite de iteraciones\n",
        "        break\n",
        "    \n",
        "\n",
        "print(best_s)\n",
        "print(best_f)"
      ],
      "execution_count": 0,
      "outputs": [
        {
          "output_type": "stream",
          "text": [
            "[0 0 1 1 1]\n",
            "11\n"
          ],
          "name": "stdout"
        }
      ]
    },
    {
      "cell_type": "code",
      "metadata": {
        "id": "FJJ8zfARqODB",
        "colab_type": "code",
        "colab": {},
        "outputId": "a1aac40b-53af-4413-c631-e59de5c2cb49"
      },
      "source": [
        "f([1,1,0,1,1])"
      ],
      "execution_count": 0,
      "outputs": [
        {
          "output_type": "execute_result",
          "data": {
            "text/plain": [
              "-3"
            ]
          },
          "metadata": {
            "tags": []
          },
          "execution_count": 7
        }
      ]
    },
    {
      "cell_type": "markdown",
      "metadata": {
        "id": "hC2LLXmWqODE",
        "colab_type": "text"
      },
      "source": [
        "• Desarrollar algoritmos con la técnica de recocido simulado(simulated annealing)\n",
        "\n",
        "El mayor proposito de dicho algoritmo es acercarse al valor optimo de una funcion, en un espacio de busqueda grande.Tambien es un procedimiento iterativo que permite movimientos de forma probabilistica. Este algoritmo hace la imitacion de un sistema fisico inestable hacia un equilibrio termodinamico a una temperatura fisica. Entonces en cada iteracion nos da una nueva solucion que es seleccionada de forma aleatoria de la vecindades de la solucion actual.\n",
        " "
      ]
    },
    {
      "cell_type": "code",
      "metadata": {
        "id": "WT5EyItgqODF",
        "colab_type": "code",
        "colab": {},
        "outputId": "a1c6862b-9506-447f-b828-bb7658de23ce"
      },
      "source": [
        "import numpy as np\n",
        "\n",
        "# funcion para ser minimizada\n",
        "f = lambda x: 0.2 + x[0]**2+x[1]**2-0.1*np.cos(6*np.pi*x[0])-0.1*np.cos(6*np.pi*x[1])\n",
        "\n",
        "\n",
        "def sim_annealing(f,x0):\n",
        "    '''\n",
        "    Hace una minimizacion con recocido simulado de f utilizando como punto de partida x0.\n",
        "    Entradas:\n",
        "        f - funcion que retorna un numero float\n",
        "        x0 - un numero o array (punto de partida)\n",
        "    Salida:\n",
        "        results - una lista de los valores de x obtenidos en cada iteracion\n",
        "    '''\n",
        "    T = 100 # temperatura inicial\n",
        "    fbest = f(x0)\n",
        "    xbest = x0\n",
        "    xn = x0\n",
        "    fn = fbest\n",
        "    \n",
        "    results = []\n",
        "    iter_ = 1\n",
        "    while T > 1:\n",
        "        if iter_%200 == 0:\n",
        "            print(f'T = {T} \\t xn = {xn} \\t xbest = {xbest} \\t fn = {fn:.3f} \\t fbest = {fbest:.3f}')\n",
        "        # Obtiene un vecino de x aleatorio\n",
        "        xnew = np.array([np.random.uniform(xn[0]-10,xn[0]+10),np.random.uniform(xn[1]-10,xn[1]+10)])\n",
        "        fnew = f(xnew)\n",
        "        omega = abs(fnew - fn) # diferencia de costo para probabilidad\n",
        "        pn = np.exp(-omega/T) # la funcion de probabilidad \n",
        "        if fnew < fn:\n",
        "            xn = xnew # si f es menor entonces acepta la solucion\n",
        "        if fnew < fbest: # actualiza el mejor valor de f\n",
        "            fbest = fnew\n",
        "            xbest = xnew\n",
        "        else: # si el valor no es mejor, examina la probabilidad para aceptar a este vecino\n",
        "            p = np.random.uniform()\n",
        "        \n",
        "            if p <= pn:\n",
        "                xn = xnew\n",
        "        T = 0.999*T # baja la temperatura\n",
        "        results.append(list(xbest))\n",
        "        iter_+=1\n",
        "    return results\n",
        "        \n",
        "        \n",
        "results = sim_annealing(f,np.array([-5,5]))    "
      ],
      "execution_count": 0,
      "outputs": [
        {
          "output_type": "stream",
          "text": [
            "T = 81.9468297776413 \t xn = [16.2490446  -5.69731085] \t xbest = [-1.12369493  1.03879018] \t fn = 50.000 \t fbest = 2.536\n",
            "T = 67.0856762769511 \t xn = [-3.82259797 -5.16601872] \t xbest = [ 0.96722459 -0.52275594] \t fn = 50.000 \t fbest = 1.418\n",
            "T = 54.91961035890876 \t xn = [-1.40147532  0.01011051] \t xbest = [-0.18118588  0.23187367] \t fn = 50.000 \t fbest = 0.416\n",
            "T = 44.95987473574339 \t xn = [ 4.46559915 -5.35816333] \t xbest = [-0.18118588  0.23187367] \t fn = 50.000 \t fbest = 0.416\n",
            "T = 36.8063488259224 \t xn = [1.90132847 7.73960995] \t xbest = [-0.36202919  0.39177671] \t fn = 50.000 \t fbest = 0.354\n",
            "T = 30.1314743837237 \t xn = [-9.11960929 -2.53943022] \t xbest = [ 0.38656224 -0.30523039] \t fn = 50.000 \t fbest = 0.303\n",
            "T = 24.6670962347009 \t xn = [10.32716523 -4.17543802] \t xbest = [ 0.38656224 -0.30523039] \t fn = 50.000 \t fbest = 0.303\n",
            "T = 20.193689459174745 \t xn = [ 1.78439508 -1.90991871] \t xbest = [ 0.38656224 -0.30523039] \t fn = 50.000 \t fbest = 0.303\n",
            "T = 16.531540238608475 \t xn = [ 3.09446039 -0.92157807] \t xbest = [-0.03172127  0.17333901] \t fn = 50.000 \t fbest = 0.248\n",
            "T = 13.533526065815796 \t xn = [ 6.77409553 -0.85361277] \t xbest = [-0.03172127  0.17333901] \t fn = 50.000 \t fbest = 0.248\n",
            "T = 11.079205272498697 \t xn = [-0.91722915 -3.12952589] \t xbest = [ 0.03238448 -0.34562338] \t fn = 50.000 \t fbest = 0.141\n",
            "T = 9.069978427884584 \t xn = [-0.41314686  4.70172129] \t xbest = [ 0.03238448 -0.34562338] \t fn = 50.000 \t fbest = 0.141\n",
            "T = 7.425127223384191 \t xn = [ 1.95000128 -4.2783103 ] \t xbest = [ 0.03238448 -0.34562338] \t fn = 50.000 \t fbest = 0.141\n",
            "T = 6.078571710153419 \t xn = [-4.63565061  6.22550391] \t xbest = [ 0.03238448 -0.34562338] \t fn = 50.000 \t fbest = 0.141\n",
            "T = 4.976215615419046 \t xn = [0.49407746 6.80851085] \t xbest = [ 0.03238448 -0.34562338] \t fn = 50.000 \t fbest = 0.141\n",
            "T = 4.073773088796106 \t xn = [ 2.21389936 -2.19858434] \t xbest = [ 0.03238448 -0.34562338] \t fn = 50.000 \t fbest = 0.141\n",
            "T = 3.3349895707045003 \t xn = [ 3.67912513 -3.67990126] \t xbest = [ 0.03238448 -0.34562338] \t fn = 50.000 \t fbest = 0.141\n",
            "T = 2.730185308380696 \t xn = [ 1.66970851 -2.68130127] \t xbest = [ 0.03238448 -0.34562338] \t fn = 50.000 \t fbest = 0.141\n",
            "T = 2.235063006965625 \t xn = [ 0.49901506 -6.29029448] \t xbest = [ 0.03238448 -0.34562338] \t fn = 50.000 \t fbest = 0.141\n",
            "T = 1.8297317144634087 \t xn = [ 1.24216084 -6.51071366] \t xbest = [ 0.03238448 -0.34562338] \t fn = 50.000 \t fbest = 0.141\n",
            "T = 1.4979077263054077 \t xn = [-2.67284622  4.97132826] \t xbest = [ 0.03238448 -0.34562338] \t fn = 50.000 \t fbest = 0.141\n",
            "T = 1.2262604068069263 \t xn = [ 1.19555887 -5.62390635] \t xbest = [ 0.03238448 -0.34562338] \t fn = 50.000 \t fbest = 0.141\n",
            "T = 1.0038766466684863 \t xn = [ 6.02043832 -1.32031885] \t xbest = [ 0.03238448 -0.34562338] \t fn = 50.000 \t fbest = 0.141\n"
          ],
          "name": "stdout"
        }
      ]
    },
    {
      "cell_type": "code",
      "metadata": {
        "id": "eSi5vjoKqODJ",
        "colab_type": "code",
        "colab": {},
        "outputId": "efb09125-1dae-4019-867e-0a8fb6008e1c"
      },
      "source": [
        "import matplotlib.pyplot as plt\n",
        "\n",
        "results = np.array(results)\n",
        "\n",
        "plt.plot(results[:,0])\n",
        "plt.plot(results[:,1])"
      ],
      "execution_count": 0,
      "outputs": [
        {
          "output_type": "execute_result",
          "data": {
            "text/plain": [
              "[<matplotlib.lines.Line2D at 0x256e10d55c8>]"
            ]
          },
          "metadata": {
            "tags": []
          },
          "execution_count": 9
        },
        {
          "output_type": "display_data",
          "data": {
            "image/png": "[encoded data removed]",
            "text/plain": [
              "<Figure size 432x288 with 1 Axes>"
            ]
          },
          "metadata": {
            "tags": [],
            "needs_background": "light"
          }
        }
      ]
    },
    {
      "cell_type": "markdown",
      "metadata": {
        "id": "qTie9ZSaqODM",
        "colab_type": "text"
      },
      "source": [
        "• Desarrollar algoritmos con la técnica de enjambre de partículas\n",
        "\n",
        "El algoritmo de enjambre de particulas esta inspirado en la colonia de hormigas y como funcionan en un comportamiento colectivo.En el mundo se pueden observar distintos tipos de sociedades de pájaros, bacterias u hormigas que se mezclan de forma que puedan convivir y obtener un beneficio en comun.La metaheuristica de OEP se usa muy bien en la resolucion de problemas de optimizacion con espacios de busquedas continuas."
      ]
    },
    {
      "cell_type": "code",
      "metadata": {
        "id": "4lxnyLZ0qODN",
        "colab_type": "code",
        "colab": {},
        "outputId": "79c63f05-c0ae-4fac-8752-a31f9ca79f17"
      },
      "source": [
        "import numpy as np\n",
        "\n",
        "f = lambda x: -(3+14*x-5*x**2) # esta funcion tiene el minimo en x = 1.4 con valor f(x) = -12.8\n",
        "xmax = 10\n",
        "xmin = -10\n",
        "\n",
        "# velocidad minima y maxima\n",
        "vmin = -1\n",
        "vmax = 1\n",
        "\n",
        "particles = np.random.rand(10)*(xmax-xmin)+xmin\n",
        "vel = np.random.rand(10)*(xmax-xmin)+xmin\n",
        "best_f = f(particles)\n",
        "best_p = particles\n",
        "\n",
        "best_g = f(particles[0])\n",
        "best_pg = particles[0]\n",
        "\n",
        "iter_ = 0\n",
        "while abs(max(particles) - min(particles)) > 1e-3:\n",
        "    \n",
        "    for idx, particle in enumerate(particles):\n",
        "        f_p = f(particle)\n",
        "        if f_p < best_f[idx]:\n",
        "            best_f[idx] = f_p\n",
        "            best_p[idx] = particle\n",
        "\n",
        "        if f_p < best_g:\n",
        "            best_g = f_p\n",
        "            best_pg = particle\n",
        "        \n",
        "        # usa clip para limitar la velocidad\n",
        "        vel[idx] = np.clip(0.2*vel[idx]+1.5*np.random.randn()*(best_p[idx]-particle)+1.5*np.random.randn()*(best_pg-particle),vmin,vmax)\n",
        "        \n",
        "    \n",
        "    particles = particles + vel\n",
        "    \n",
        "    #print(particle)\n",
        "    \n",
        "    iter_ += 1\n",
        "    if iter_ > 1000:\n",
        "        break\n",
        "        \n",
        "print(f'The minimum of the function f(x) = {best_g:.3f}')\n",
        "print(f'The x value is {best_pg:.3f}')\n",
        "\n"
      ],
      "execution_count": 0,
      "outputs": [
        {
          "output_type": "stream",
          "text": [
            "The minimum of the function f(x) = -12.800\n",
            "The x value is 1.400\n"
          ],
          "name": "stdout"
        }
      ]
    },
    {
      "cell_type": "markdown",
      "metadata": {
        "id": "Pv2Q3FvaqODP",
        "colab_type": "text"
      },
      "source": [
        "• Desarrollar algoritmos con la técnica de GRASP(procedimientos de búsqueda voraz aleatorios y adaptativos)\n",
        "\n",
        "Hay muchas situaciones donde se usa la tecnica Grasp por ejemplo:\n",
        "\n",
        "-Si no existe un método exacto de solución.\n",
        "\n",
        "-En el caso de  que no sea necesaria una solución optima.\n",
        "\n",
        "-Siempre y cuando haya limites de espacio o tiempo.\n",
        "\n",
        "-En algunos caso se puede usar en conjunto con otro algoritmo.\n",
        "\n",
        "A continuacion use el ejemplo de la mochila para la tecnica GRASP.\n"
      ]
    },
    {
      "cell_type": "code",
      "metadata": {
        "id": "oyVuRgfYqODR",
        "colab_type": "code",
        "colab": {},
        "outputId": "5bca76b9-409f-436b-8e7a-f844d7eb1c6b"
      },
      "source": [
        "import random\n",
        "from random import uniform, choice\n",
        "from copy import copy, deepcopy\n",
        "import numpy as np\n",
        "#import operator\n",
        "\n",
        "# El problema de la mochila 0/1\n",
        "MOCHILA = np.array([0,0,0,0,0])\n",
        "\n",
        "pesos = np.array([2,3.14,1.98,5,3])\n",
        "valores = np.array([40,50,100,95,30])\n",
        "e = valores/pesos\n",
        "\n",
        "MAX_PESO = 10 # maximo peso de la mochila\n",
        "\n",
        "\n",
        "# voraz - reordena la lista de items del mayor al menor\n",
        "idx_sort = np.argsort(e)[::-1]\n",
        "e = e[idx_sort]\n",
        "pesos = pesos[idx_sort]\n",
        "valores = valores[idx_sort]\n",
        "\n",
        "print('e',e)\n",
        "print('pesos',pesos)\n",
        "print('valores',valores)\n",
        "\n",
        "\n",
        "# aleatoria\n",
        "def busqueda_aleatoria(MOCHILA, valores, pesos, alpha, MAX_PESO):\n",
        "    '''\n",
        "    Hace una busqueda voraz/ aleatoria creando una lista restringida de candidatos\n",
        "    de acuerdo con alpha y seleciona aleatoriamente uno de los candidatos y\n",
        "    comprueba si el valor de la mochila mejora.\n",
        "    Entradas:\n",
        "        MOCHILA - np.array con estado inicial de la mochila\n",
        "        valores - np.array con valores de items\n",
        "        pesos - np.array con pesos de items\n",
        "        alpha - float con valor [0,1] que define voracidad\n",
        "        MAX_PESO - int o float que define maximo peso de la mochila\n",
        "    Salida:\n",
        "        MOCHILA - np.array con la mejor configuracion encontrada de la mochila\n",
        "    '''\n",
        "    candidatos = list(range(len(MOCHILA)))\n",
        "    # en cuanto haya candidatos\n",
        "    while len(candidatos) > 1:\n",
        "        # crea una lista restringida de candidatos \n",
        "        candidatosRestringidos = candidatos[:int(alpha*len(candidatos))+1]\n",
        "        \n",
        "        # seleciona aleatoriamente un candidato\n",
        "        candidatoSelecionado = random.choice(candidatosRestringidos)\n",
        "        candidatos.remove(candidatoSelecionado)\n",
        "\n",
        "        # hace una copia de la mochila para comprobar el peso\n",
        "        MOCHILA2 = MOCHILA.copy()\n",
        "        MOCHILA2[candidatoSelecionado] = 1\n",
        "        \n",
        "\n",
        "        pesoMOCHILA2  = MOCHILA2.dot(pesos)\n",
        "        # comprueba si el peso de la mochila encontrada es factible\n",
        "        if pesoMOCHILA2 <= MAX_PESO:\n",
        "            MOCHILA = MOCHILA2.copy()\n",
        "    return MOCHILA\n",
        "    \n",
        "# busqueda local\n",
        "def busqueda_local(MOCHILA,valores,pesos, MAX_PESO):\n",
        "    '''\n",
        "    Hace una busqueda local cambiando solamente un valor de la mochila\n",
        "    a la vez. Comprueba si el valor de la mochila mejora.\n",
        "    Entradas:\n",
        "        MOCHILA - np.array con estado inicial de la mochila\n",
        "        valores - np.array con valores de items\n",
        "        pesos - np.array con pesos de items\n",
        "        MAX_PESO - int o float que define maximo peso de la mochila\n",
        "    Salida:\n",
        "        MOCHILA - np.array con la mejor configuracion encontrada de la mochila\n",
        "    '''\n",
        "    for i in range(len(MOCHILA)):\n",
        "        MOCHILA2 = MOCHILA.copy()\n",
        "        \n",
        "        # cambio de un item en la mochila (si es 0, se remueve, pero si es 1, se pone)\n",
        "        if MOCHILA2[i] == 0:\n",
        "            MOCHILA2[i] = 1\n",
        "        else:\n",
        "            MOCHILA2[i] = 0\n",
        "        \n",
        "        valorMOCHILA = MOCHILA.dot(valores)\n",
        "        valorMOCHILA2 = MOCHILA2.dot(valores)\n",
        "        pesoMOCHILA = MOCHILA.dot(pesos)\n",
        "        pesoMOCHILA2 = MOCHILA2.dot(pesos)\n",
        "        \n",
        "        # comprueba si el valor de la mochila mejora, y si es factible, entonces guarda esta mochila\n",
        "        if valorMOCHILA2 > valorMOCHILA:\n",
        "            if pesoMOCHILA2 <= MAX_PESO:\n",
        "                MOCHILA = MOCHILA2.copy()\n",
        "                \n",
        "    return MOCHILA\n",
        "\n",
        "def grasp(MOCHILA_INICIAL,valores, pesos, alpha, MAX_PESO, MAX_ITER):\n",
        "    '''\n",
        "    Implementacion del algoritmo GRASP para solucion de problema de la mochila 0/1.\n",
        "    Entradas:\n",
        "        MOCHILA_INICIAL - np.array con estado inicial de la mochila\n",
        "        valores - np.array con valores de items\n",
        "        pesos - np.array con pesos de items\n",
        "        alpha - float con valor [0,1] que define voracidad\n",
        "        MAX_PESO - int o float que define maximo peso de la mochila\n",
        "        MAX_ITER - int maximo numero de iteraciones\n",
        "    Salida:\n",
        "        MEJOR_MOCHILA - np.array con la mejor configuracion encontrada de la mochila\n",
        "    \n",
        "    '''\n",
        "    \n",
        "    # inicializa la mejor mochila y la mochila anterior\n",
        "    MEJOR_MOCHILA = MOCHILA_INICIAL.copy()\n",
        "    MOCHILA_ANTERIOR = MOCHILA_INICIAL.copy()\n",
        "    \n",
        "    for iter_ in range(MAX_ITER):\n",
        "        #print(iter_)\n",
        "        MOCHILA = busqueda_aleatoria(MOCHILA_INICIAL, valores, pesos, alpha, MAX_PESO)\n",
        "        MOCHILA = busqueda_local(MOCHILA,valores,pesos, MAX_PESO)\n",
        "        \n",
        "        # comprueba si la mochila actual es mejor que la mejor mochila hasta la iteracion corriente\n",
        "        if MOCHILA.dot(valores) > MEJOR_MOCHILA.dot(valores):\n",
        "            MEJOR_MOCHILA = MOCHILA.copy()\n",
        "            print(f'mejor mochila hasta iter {iter_} = {MEJOR_MOCHILA.dot(valores):3f}')\n",
        "        MOCHILA_ANTERIOR = MOCHILA.copy() # guarda la mochila actual en la mochila anterior para usar en la \n",
        "                                            # proxima iteracion\n",
        "    return MEJOR_MOCHILA\n",
        "\n",
        "# porcentaje de items en lista de candidatos\n",
        "alpha = 1\n",
        "MAX_ITER = 10\n",
        "MEJOR_MOCHILA = grasp(MOCHILA,valores, pesos, alpha, MAX_PESO, MAX_ITER)\n",
        "print('valor',MEJOR_MOCHILA.dot(valores))\n",
        "print('peso',MEJOR_MOCHILA.dot(pesos))\n"
      ],
      "execution_count": 0,
      "outputs": [
        {
          "output_type": "stream",
          "text": [
            "e [50.50505051 20.         19.         15.92356688 10.        ]\n",
            "pesos [1.98 2.   5.   3.14 3.  ]\n",
            "valores [100  40  95  50  30]\n",
            "mejor mochila hasta iter 0 = 120.000000\n",
            "mejor mochila hasta iter 1 = 180.000000\n",
            "mejor mochila hasta iter 3 = 225.000000\n",
            "mejor mochila hasta iter 6 = 235.000000\n",
            "valor 235\n",
            "peso 8.98\n"
          ],
          "name": "stdout"
        }
      ]
    }
  ]
}